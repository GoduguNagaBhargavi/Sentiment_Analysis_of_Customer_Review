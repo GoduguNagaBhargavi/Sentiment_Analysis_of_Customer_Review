{
 "cells": [
  {
   "cell_type": "code",
   "execution_count": 145,
   "id": "d545479d-f24b-48b3-ab7d-cc5238806d83",
   "metadata": {},
   "outputs": [],
   "source": [
    "#Problem statement\n",
    "#Import the Data Set and do the data preprocessing\n",
    "#Problem Statement -\n",
    "# Develop a sentiment analysis model to classify reviews as positive or negative.\n",
    "\n",
    "#Preprocess the review text using techniques such as Lower casing, removing stop words and Lemmatization\n",
    "\n",
    "#use the trained model accurately predict the sentiment of new, unseen reviews."
   ]
  },
  {
   "cell_type": "code",
   "execution_count": 146,
   "id": "10134d2a-b023-407d-a08b-5fe5302b0942",
   "metadata": {},
   "outputs": [],
   "source": [
    "#Description\n",
    "# with the rapid growth of online platforms for sharing opinions and reviews, restarunts often rely \n",
    "# on the customer feedback to imporve their services and attract a new customers.\n",
    "# Analyzing the sentiment of these reviews can provide valuable insights into customer satisfaction."
   ]
  },
  {
   "cell_type": "code",
   "execution_count": 42,
   "id": "bf1e023c-4fe5-40ee-9399-05731d69d164",
   "metadata": {},
   "outputs": [
    {
     "name": "stdout",
     "output_type": "stream",
     "text": [
      "Requirement already satisfied: pandas in c:\\users\\godugu naga bhargavi\\appdata\\local\\programs\\python\\python312\\lib\\site-packages (2.2.1)\n",
      "Requirement already satisfied: numpy<2,>=1.26.0 in c:\\users\\godugu naga bhargavi\\appdata\\local\\programs\\python\\python312\\lib\\site-packages (from pandas) (1.26.4)\n",
      "Requirement already satisfied: python-dateutil>=2.8.2 in c:\\users\\godugu naga bhargavi\\appdata\\local\\programs\\python\\python312\\lib\\site-packages (from pandas) (2.9.0.post0)\n",
      "Requirement already satisfied: pytz>=2020.1 in c:\\users\\godugu naga bhargavi\\appdata\\local\\programs\\python\\python312\\lib\\site-packages (from pandas) (2024.1)\n",
      "Requirement already satisfied: tzdata>=2022.7 in c:\\users\\godugu naga bhargavi\\appdata\\local\\programs\\python\\python312\\lib\\site-packages (from pandas) (2024.1)\n",
      "Requirement already satisfied: six>=1.5 in c:\\users\\godugu naga bhargavi\\appdata\\local\\programs\\python\\python312\\lib\\site-packages (from python-dateutil>=2.8.2->pandas) (1.16.0)\n",
      "Note: you may need to restart the kernel to use updated packages.\n"
     ]
    },
    {
     "name": "stderr",
     "output_type": "stream",
     "text": [
      "\n",
      "[notice] A new release of pip is available: 24.0 -> 24.1\n",
      "[notice] To update, run: python.exe -m pip install --upgrade pip\n"
     ]
    }
   ],
   "source": [
    "pip install pandas"
   ]
  },
  {
   "cell_type": "code",
   "execution_count": 43,
   "id": "25698800-be4a-4347-a06e-3d6c7287020f",
   "metadata": {},
   "outputs": [],
   "source": [
    "import pandas as pd"
   ]
  },
  {
   "cell_type": "code",
   "execution_count": 44,
   "id": "7ce44749-5bf7-41f1-864f-4ecccf280030",
   "metadata": {},
   "outputs": [],
   "source": [
    "data = pd.read_csv('Reviews.csv')"
   ]
  },
  {
   "cell_type": "code",
   "execution_count": 45,
   "id": "04804db9-d2cb-4990-9719-57d3e81348fa",
   "metadata": {},
   "outputs": [
    {
     "data": {
      "text/html": [
       "<div>\n",
       "<style scoped>\n",
       "    .dataframe tbody tr th:only-of-type {\n",
       "        vertical-align: middle;\n",
       "    }\n",
       "\n",
       "    .dataframe tbody tr th {\n",
       "        vertical-align: top;\n",
       "    }\n",
       "\n",
       "    .dataframe thead th {\n",
       "        text-align: right;\n",
       "    }\n",
       "</style>\n",
       "<table border=\"1\" class=\"dataframe\">\n",
       "  <thead>\n",
       "    <tr style=\"text-align: right;\">\n",
       "      <th></th>\n",
       "      <th>Review</th>\n",
       "      <th>Liked</th>\n",
       "    </tr>\n",
       "  </thead>\n",
       "  <tbody>\n",
       "    <tr>\n",
       "      <th>0</th>\n",
       "      <td>Wow... Loved this place.</td>\n",
       "      <td>1</td>\n",
       "    </tr>\n",
       "    <tr>\n",
       "      <th>1</th>\n",
       "      <td>Crust is not good.</td>\n",
       "      <td>0</td>\n",
       "    </tr>\n",
       "    <tr>\n",
       "      <th>2</th>\n",
       "      <td>Not tasty and the texture was just nasty.</td>\n",
       "      <td>0</td>\n",
       "    </tr>\n",
       "    <tr>\n",
       "      <th>3</th>\n",
       "      <td>Stopped by during the late May bank holiday of...</td>\n",
       "      <td>1</td>\n",
       "    </tr>\n",
       "    <tr>\n",
       "      <th>4</th>\n",
       "      <td>The selection on the menu was great and so wer...</td>\n",
       "      <td>1</td>\n",
       "    </tr>\n",
       "    <tr>\n",
       "      <th>...</th>\n",
       "      <td>...</td>\n",
       "      <td>...</td>\n",
       "    </tr>\n",
       "    <tr>\n",
       "      <th>995</th>\n",
       "      <td>I think food should have flavor and texture an...</td>\n",
       "      <td>0</td>\n",
       "    </tr>\n",
       "    <tr>\n",
       "      <th>996</th>\n",
       "      <td>Appetite instantly gone.</td>\n",
       "      <td>0</td>\n",
       "    </tr>\n",
       "    <tr>\n",
       "      <th>997</th>\n",
       "      <td>Overall I was not impressed and would not go b...</td>\n",
       "      <td>0</td>\n",
       "    </tr>\n",
       "    <tr>\n",
       "      <th>998</th>\n",
       "      <td>The whole experience was underwhelming, and I ...</td>\n",
       "      <td>0</td>\n",
       "    </tr>\n",
       "    <tr>\n",
       "      <th>999</th>\n",
       "      <td>Then, as if I hadn't wasted enough of my life ...</td>\n",
       "      <td>0</td>\n",
       "    </tr>\n",
       "  </tbody>\n",
       "</table>\n",
       "<p>1000 rows × 2 columns</p>\n",
       "</div>"
      ],
      "text/plain": [
       "                                                Review  Liked\n",
       "0                             Wow... Loved this place.      1\n",
       "1                                   Crust is not good.      0\n",
       "2            Not tasty and the texture was just nasty.      0\n",
       "3    Stopped by during the late May bank holiday of...      1\n",
       "4    The selection on the menu was great and so wer...      1\n",
       "..                                                 ...    ...\n",
       "995  I think food should have flavor and texture an...      0\n",
       "996                           Appetite instantly gone.      0\n",
       "997  Overall I was not impressed and would not go b...      0\n",
       "998  The whole experience was underwhelming, and I ...      0\n",
       "999  Then, as if I hadn't wasted enough of my life ...      0\n",
       "\n",
       "[1000 rows x 2 columns]"
      ]
     },
     "execution_count": 45,
     "metadata": {},
     "output_type": "execute_result"
    }
   ],
   "source": [
    "data"
   ]
  },
  {
   "cell_type": "code",
   "execution_count": 46,
   "id": "586e56b0-0c39-4890-8ddc-cf29e9a77f42",
   "metadata": {},
   "outputs": [
    {
     "data": {
      "text/html": [
       "<div>\n",
       "<style scoped>\n",
       "    .dataframe tbody tr th:only-of-type {\n",
       "        vertical-align: middle;\n",
       "    }\n",
       "\n",
       "    .dataframe tbody tr th {\n",
       "        vertical-align: top;\n",
       "    }\n",
       "\n",
       "    .dataframe thead th {\n",
       "        text-align: right;\n",
       "    }\n",
       "</style>\n",
       "<table border=\"1\" class=\"dataframe\">\n",
       "  <thead>\n",
       "    <tr style=\"text-align: right;\">\n",
       "      <th></th>\n",
       "      <th>Review</th>\n",
       "      <th>Liked</th>\n",
       "    </tr>\n",
       "  </thead>\n",
       "  <tbody>\n",
       "    <tr>\n",
       "      <th>0</th>\n",
       "      <td>Wow... Loved this place.</td>\n",
       "      <td>1</td>\n",
       "    </tr>\n",
       "    <tr>\n",
       "      <th>1</th>\n",
       "      <td>Crust is not good.</td>\n",
       "      <td>0</td>\n",
       "    </tr>\n",
       "    <tr>\n",
       "      <th>2</th>\n",
       "      <td>Not tasty and the texture was just nasty.</td>\n",
       "      <td>0</td>\n",
       "    </tr>\n",
       "    <tr>\n",
       "      <th>3</th>\n",
       "      <td>Stopped by during the late May bank holiday of...</td>\n",
       "      <td>1</td>\n",
       "    </tr>\n",
       "    <tr>\n",
       "      <th>4</th>\n",
       "      <td>The selection on the menu was great and so wer...</td>\n",
       "      <td>1</td>\n",
       "    </tr>\n",
       "  </tbody>\n",
       "</table>\n",
       "</div>"
      ],
      "text/plain": [
       "                                              Review  Liked\n",
       "0                           Wow... Loved this place.      1\n",
       "1                                 Crust is not good.      0\n",
       "2          Not tasty and the texture was just nasty.      0\n",
       "3  Stopped by during the late May bank holiday of...      1\n",
       "4  The selection on the menu was great and so wer...      1"
      ]
     },
     "execution_count": 46,
     "metadata": {},
     "output_type": "execute_result"
    }
   ],
   "source": [
    "#Review the top 5 rows\n",
    "data.head() # here giving arguments is optional, by default it will take 5 - which gives first 5 records"
   ]
  },
  {
   "cell_type": "code",
   "execution_count": 47,
   "id": "addf1ac1-df20-4c2d-b415-ba6c6d9f1fb8",
   "metadata": {},
   "outputs": [
    {
     "data": {
      "text/html": [
       "<div>\n",
       "<style scoped>\n",
       "    .dataframe tbody tr th:only-of-type {\n",
       "        vertical-align: middle;\n",
       "    }\n",
       "\n",
       "    .dataframe tbody tr th {\n",
       "        vertical-align: top;\n",
       "    }\n",
       "\n",
       "    .dataframe thead th {\n",
       "        text-align: right;\n",
       "    }\n",
       "</style>\n",
       "<table border=\"1\" class=\"dataframe\">\n",
       "  <thead>\n",
       "    <tr style=\"text-align: right;\">\n",
       "      <th></th>\n",
       "      <th>Review</th>\n",
       "      <th>Liked</th>\n",
       "    </tr>\n",
       "  </thead>\n",
       "  <tbody>\n",
       "    <tr>\n",
       "      <th>995</th>\n",
       "      <td>I think food should have flavor and texture an...</td>\n",
       "      <td>0</td>\n",
       "    </tr>\n",
       "    <tr>\n",
       "      <th>996</th>\n",
       "      <td>Appetite instantly gone.</td>\n",
       "      <td>0</td>\n",
       "    </tr>\n",
       "    <tr>\n",
       "      <th>997</th>\n",
       "      <td>Overall I was not impressed and would not go b...</td>\n",
       "      <td>0</td>\n",
       "    </tr>\n",
       "    <tr>\n",
       "      <th>998</th>\n",
       "      <td>The whole experience was underwhelming, and I ...</td>\n",
       "      <td>0</td>\n",
       "    </tr>\n",
       "    <tr>\n",
       "      <th>999</th>\n",
       "      <td>Then, as if I hadn't wasted enough of my life ...</td>\n",
       "      <td>0</td>\n",
       "    </tr>\n",
       "  </tbody>\n",
       "</table>\n",
       "</div>"
      ],
      "text/plain": [
       "                                                Review  Liked\n",
       "995  I think food should have flavor and texture an...      0\n",
       "996                           Appetite instantly gone.      0\n",
       "997  Overall I was not impressed and would not go b...      0\n",
       "998  The whole experience was underwhelming, and I ...      0\n",
       "999  Then, as if I hadn't wasted enough of my life ...      0"
      ]
     },
     "execution_count": 47,
     "metadata": {},
     "output_type": "execute_result"
    }
   ],
   "source": [
    "data.tail() # Last 5 rows of the data set"
   ]
  },
  {
   "cell_type": "code",
   "execution_count": 48,
   "id": "f0da9700-07a0-4a33-af52-f0ca01faae32",
   "metadata": {},
   "outputs": [
    {
     "data": {
      "text/html": [
       "<div>\n",
       "<style scoped>\n",
       "    .dataframe tbody tr th:only-of-type {\n",
       "        vertical-align: middle;\n",
       "    }\n",
       "\n",
       "    .dataframe tbody tr th {\n",
       "        vertical-align: top;\n",
       "    }\n",
       "\n",
       "    .dataframe thead th {\n",
       "        text-align: right;\n",
       "    }\n",
       "</style>\n",
       "<table border=\"1\" class=\"dataframe\">\n",
       "  <thead>\n",
       "    <tr style=\"text-align: right;\">\n",
       "      <th></th>\n",
       "      <th>Review</th>\n",
       "      <th>Liked</th>\n",
       "    </tr>\n",
       "  </thead>\n",
       "  <tbody>\n",
       "    <tr>\n",
       "      <th>990</th>\n",
       "      <td>The refried beans that came with my meal were ...</td>\n",
       "      <td>0</td>\n",
       "    </tr>\n",
       "    <tr>\n",
       "      <th>991</th>\n",
       "      <td>Spend your money and time some place else.</td>\n",
       "      <td>0</td>\n",
       "    </tr>\n",
       "    <tr>\n",
       "      <th>992</th>\n",
       "      <td>A lady at the table next to us found a live gr...</td>\n",
       "      <td>0</td>\n",
       "    </tr>\n",
       "    <tr>\n",
       "      <th>993</th>\n",
       "      <td>the presentation of the food was awful.</td>\n",
       "      <td>0</td>\n",
       "    </tr>\n",
       "    <tr>\n",
       "      <th>994</th>\n",
       "      <td>I can't tell you how disappointed I was.</td>\n",
       "      <td>0</td>\n",
       "    </tr>\n",
       "    <tr>\n",
       "      <th>995</th>\n",
       "      <td>I think food should have flavor and texture an...</td>\n",
       "      <td>0</td>\n",
       "    </tr>\n",
       "    <tr>\n",
       "      <th>996</th>\n",
       "      <td>Appetite instantly gone.</td>\n",
       "      <td>0</td>\n",
       "    </tr>\n",
       "    <tr>\n",
       "      <th>997</th>\n",
       "      <td>Overall I was not impressed and would not go b...</td>\n",
       "      <td>0</td>\n",
       "    </tr>\n",
       "    <tr>\n",
       "      <th>998</th>\n",
       "      <td>The whole experience was underwhelming, and I ...</td>\n",
       "      <td>0</td>\n",
       "    </tr>\n",
       "    <tr>\n",
       "      <th>999</th>\n",
       "      <td>Then, as if I hadn't wasted enough of my life ...</td>\n",
       "      <td>0</td>\n",
       "    </tr>\n",
       "  </tbody>\n",
       "</table>\n",
       "</div>"
      ],
      "text/plain": [
       "                                                Review  Liked\n",
       "990  The refried beans that came with my meal were ...      0\n",
       "991         Spend your money and time some place else.      0\n",
       "992  A lady at the table next to us found a live gr...      0\n",
       "993            the presentation of the food was awful.      0\n",
       "994           I can't tell you how disappointed I was.      0\n",
       "995  I think food should have flavor and texture an...      0\n",
       "996                           Appetite instantly gone.      0\n",
       "997  Overall I was not impressed and would not go b...      0\n",
       "998  The whole experience was underwhelming, and I ...      0\n",
       "999  Then, as if I hadn't wasted enough of my life ...      0"
      ]
     },
     "execution_count": 48,
     "metadata": {},
     "output_type": "execute_result"
    }
   ],
   "source": [
    "data.tail(10)"
   ]
  },
  {
   "cell_type": "code",
   "execution_count": 49,
   "id": "da7d2567-9709-48ec-bb6f-30b69edf2763",
   "metadata": {},
   "outputs": [
    {
     "name": "stdout",
     "output_type": "stream",
     "text": [
      "<class 'pandas.core.frame.DataFrame'>\n",
      "RangeIndex: 1000 entries, 0 to 999\n",
      "Data columns (total 2 columns):\n",
      " #   Column  Non-Null Count  Dtype \n",
      "---  ------  --------------  ----- \n",
      " 0   Review  1000 non-null   object\n",
      " 1   Liked   1000 non-null   int64 \n",
      "dtypes: int64(1), object(1)\n",
      "memory usage: 15.8+ KB\n"
     ]
    }
   ],
   "source": [
    "data.info() # information of the dat set like , data type , memory usage"
   ]
  },
  {
   "cell_type": "code",
   "execution_count": 50,
   "id": "bc1b3b77-b393-4c0e-b114-50d6afd9fbef",
   "metadata": {},
   "outputs": [
    {
     "data": {
      "text/html": [
       "<div>\n",
       "<style scoped>\n",
       "    .dataframe tbody tr th:only-of-type {\n",
       "        vertical-align: middle;\n",
       "    }\n",
       "\n",
       "    .dataframe tbody tr th {\n",
       "        vertical-align: top;\n",
       "    }\n",
       "\n",
       "    .dataframe thead th {\n",
       "        text-align: right;\n",
       "    }\n",
       "</style>\n",
       "<table border=\"1\" class=\"dataframe\">\n",
       "  <thead>\n",
       "    <tr style=\"text-align: right;\">\n",
       "      <th></th>\n",
       "      <th>Liked</th>\n",
       "    </tr>\n",
       "  </thead>\n",
       "  <tbody>\n",
       "    <tr>\n",
       "      <th>count</th>\n",
       "      <td>1000.00000</td>\n",
       "    </tr>\n",
       "    <tr>\n",
       "      <th>mean</th>\n",
       "      <td>0.50000</td>\n",
       "    </tr>\n",
       "    <tr>\n",
       "      <th>std</th>\n",
       "      <td>0.50025</td>\n",
       "    </tr>\n",
       "    <tr>\n",
       "      <th>min</th>\n",
       "      <td>0.00000</td>\n",
       "    </tr>\n",
       "    <tr>\n",
       "      <th>25%</th>\n",
       "      <td>0.00000</td>\n",
       "    </tr>\n",
       "    <tr>\n",
       "      <th>50%</th>\n",
       "      <td>0.50000</td>\n",
       "    </tr>\n",
       "    <tr>\n",
       "      <th>75%</th>\n",
       "      <td>1.00000</td>\n",
       "    </tr>\n",
       "    <tr>\n",
       "      <th>max</th>\n",
       "      <td>1.00000</td>\n",
       "    </tr>\n",
       "  </tbody>\n",
       "</table>\n",
       "</div>"
      ],
      "text/plain": [
       "            Liked\n",
       "count  1000.00000\n",
       "mean      0.50000\n",
       "std       0.50025\n",
       "min       0.00000\n",
       "25%       0.00000\n",
       "50%       0.50000\n",
       "75%       1.00000\n",
       "max       1.00000"
      ]
     },
     "execution_count": 50,
     "metadata": {},
     "output_type": "execute_result"
    }
   ],
   "source": [
    "data.describe() # stastical information of the data set"
   ]
  },
  {
   "cell_type": "code",
   "execution_count": 51,
   "id": "933eb419-afd6-488f-8770-ebaaa41ceff8",
   "metadata": {},
   "outputs": [
    {
     "data": {
      "text/plain": [
       "Review    0\n",
       "Liked     0\n",
       "dtype: int64"
      ]
     },
     "execution_count": 51,
     "metadata": {},
     "output_type": "execute_result"
    }
   ],
   "source": [
    "# TO CHECK NULL VALUES\n",
    "data.isnull().sum()"
   ]
  },
  {
   "cell_type": "code",
   "execution_count": 52,
   "id": "befa395d-c21e-44ab-821c-b1407a248d2e",
   "metadata": {},
   "outputs": [
    {
     "data": {
      "text/plain": [
       "0      False\n",
       "1      False\n",
       "2      False\n",
       "3      False\n",
       "4      False\n",
       "       ...  \n",
       "995    False\n",
       "996    False\n",
       "997    False\n",
       "998    False\n",
       "999    False\n",
       "Length: 1000, dtype: bool"
      ]
     },
     "execution_count": 52,
     "metadata": {},
     "output_type": "execute_result"
    }
   ],
   "source": [
    "#TO CHECK DUPLICATED VALUES\n",
    "data.duplicated()"
   ]
  },
  {
   "cell_type": "code",
   "execution_count": 53,
   "id": "3e8d40a2-c3c2-40ba-9a5a-a2e7b76a316a",
   "metadata": {},
   "outputs": [
    {
     "name": "stdout",
     "output_type": "stream",
     "text": [
      "Liked\n",
      "1    500\n",
      "0    500\n",
      "Name: count, dtype: int64\n"
     ]
    }
   ],
   "source": [
    "#checking the value counts\n",
    "value_counts = data['Liked'].value_counts()\n",
    "print(value_counts)"
   ]
  },
  {
   "cell_type": "code",
   "execution_count": 54,
   "id": "41ab84ac-da10-496a-9669-c2c8de9fbf36",
   "metadata": {},
   "outputs": [],
   "source": [
    "# TO UNDERSTAND THE DATA IN GRAPHICAL/PICTORIAL MANNER, we need to use EDA - Exploratory Data Analysis"
   ]
  },
  {
   "cell_type": "code",
   "execution_count": 55,
   "id": "39f00aa6-b7fd-4af5-92d9-d0bec75e19d8",
   "metadata": {},
   "outputs": [
    {
     "name": "stdout",
     "output_type": "stream",
     "text": [
      "Requirement already satisfied: seaborn in c:\\users\\godugu naga bhargavi\\appdata\\local\\programs\\python\\python312\\lib\\site-packages (0.13.2)\n",
      "Requirement already satisfied: numpy!=1.24.0,>=1.20 in c:\\users\\godugu naga bhargavi\\appdata\\local\\programs\\python\\python312\\lib\\site-packages (from seaborn) (1.26.4)\n",
      "Requirement already satisfied: pandas>=1.2 in c:\\users\\godugu naga bhargavi\\appdata\\local\\programs\\python\\python312\\lib\\site-packages (from seaborn) (2.2.1)\n",
      "Requirement already satisfied: matplotlib!=3.6.1,>=3.4 in c:\\users\\godugu naga bhargavi\\appdata\\local\\programs\\python\\python312\\lib\\site-packages (from seaborn) (3.8.4)\n",
      "Requirement already satisfied: contourpy>=1.0.1 in c:\\users\\godugu naga bhargavi\\appdata\\local\\programs\\python\\python312\\lib\\site-packages (from matplotlib!=3.6.1,>=3.4->seaborn) (1.2.1)\n",
      "Requirement already satisfied: cycler>=0.10 in c:\\users\\godugu naga bhargavi\\appdata\\local\\programs\\python\\python312\\lib\\site-packages (from matplotlib!=3.6.1,>=3.4->seaborn) (0.12.1)\n",
      "Requirement already satisfied: fonttools>=4.22.0 in c:\\users\\godugu naga bhargavi\\appdata\\local\\programs\\python\\python312\\lib\\site-packages (from matplotlib!=3.6.1,>=3.4->seaborn) (4.51.0)\n",
      "Requirement already satisfied: kiwisolver>=1.3.1 in c:\\users\\godugu naga bhargavi\\appdata\\local\\programs\\python\\python312\\lib\\site-packages (from matplotlib!=3.6.1,>=3.4->seaborn) (1.4.5)\n",
      "Requirement already satisfied: packaging>=20.0 in c:\\users\\godugu naga bhargavi\\appdata\\local\\programs\\python\\python312\\lib\\site-packages (from matplotlib!=3.6.1,>=3.4->seaborn) (24.0)\n",
      "Requirement already satisfied: pillow>=8 in c:\\users\\godugu naga bhargavi\\appdata\\local\\programs\\python\\python312\\lib\\site-packages (from matplotlib!=3.6.1,>=3.4->seaborn) (10.3.0)\n",
      "Requirement already satisfied: pyparsing>=2.3.1 in c:\\users\\godugu naga bhargavi\\appdata\\local\\programs\\python\\python312\\lib\\site-packages (from matplotlib!=3.6.1,>=3.4->seaborn) (3.1.2)\n",
      "Requirement already satisfied: python-dateutil>=2.7 in c:\\users\\godugu naga bhargavi\\appdata\\local\\programs\\python\\python312\\lib\\site-packages (from matplotlib!=3.6.1,>=3.4->seaborn) (2.9.0.post0)\n",
      "Requirement already satisfied: pytz>=2020.1 in c:\\users\\godugu naga bhargavi\\appdata\\local\\programs\\python\\python312\\lib\\site-packages (from pandas>=1.2->seaborn) (2024.1)\n",
      "Requirement already satisfied: tzdata>=2022.7 in c:\\users\\godugu naga bhargavi\\appdata\\local\\programs\\python\\python312\\lib\\site-packages (from pandas>=1.2->seaborn) (2024.1)\n",
      "Requirement already satisfied: six>=1.5 in c:\\users\\godugu naga bhargavi\\appdata\\local\\programs\\python\\python312\\lib\\site-packages (from python-dateutil>=2.7->matplotlib!=3.6.1,>=3.4->seaborn) (1.16.0)\n",
      "Note: you may need to restart the kernel to use updated packages.\n"
     ]
    },
    {
     "name": "stderr",
     "output_type": "stream",
     "text": [
      "\n",
      "[notice] A new release of pip is available: 24.0 -> 24.1\n",
      "[notice] To update, run: python.exe -m pip install --upgrade pip\n"
     ]
    }
   ],
   "source": [
    "pip install seaborn"
   ]
  },
  {
   "cell_type": "code",
   "execution_count": 56,
   "id": "68053bcc-4579-4c01-a85b-ea120a7056ad",
   "metadata": {},
   "outputs": [
    {
     "name": "stdout",
     "output_type": "stream",
     "text": [
      "Requirement already satisfied: matplotlib in c:\\users\\godugu naga bhargavi\\appdata\\local\\programs\\python\\python312\\lib\\site-packages (3.8.4)\n",
      "Requirement already satisfied: contourpy>=1.0.1 in c:\\users\\godugu naga bhargavi\\appdata\\local\\programs\\python\\python312\\lib\\site-packages (from matplotlib) (1.2.1)\n",
      "Requirement already satisfied: cycler>=0.10 in c:\\users\\godugu naga bhargavi\\appdata\\local\\programs\\python\\python312\\lib\\site-packages (from matplotlib) (0.12.1)\n",
      "Requirement already satisfied: fonttools>=4.22.0 in c:\\users\\godugu naga bhargavi\\appdata\\local\\programs\\python\\python312\\lib\\site-packages (from matplotlib) (4.51.0)\n",
      "Requirement already satisfied: kiwisolver>=1.3.1 in c:\\users\\godugu naga bhargavi\\appdata\\local\\programs\\python\\python312\\lib\\site-packages (from matplotlib) (1.4.5)\n",
      "Requirement already satisfied: numpy>=1.21 in c:\\users\\godugu naga bhargavi\\appdata\\local\\programs\\python\\python312\\lib\\site-packages (from matplotlib) (1.26.4)\n",
      "Requirement already satisfied: packaging>=20.0 in c:\\users\\godugu naga bhargavi\\appdata\\local\\programs\\python\\python312\\lib\\site-packages (from matplotlib) (24.0)\n",
      "Requirement already satisfied: pillow>=8 in c:\\users\\godugu naga bhargavi\\appdata\\local\\programs\\python\\python312\\lib\\site-packages (from matplotlib) (10.3.0)\n",
      "Requirement already satisfied: pyparsing>=2.3.1 in c:\\users\\godugu naga bhargavi\\appdata\\local\\programs\\python\\python312\\lib\\site-packages (from matplotlib) (3.1.2)\n",
      "Requirement already satisfied: python-dateutil>=2.7 in c:\\users\\godugu naga bhargavi\\appdata\\local\\programs\\python\\python312\\lib\\site-packages (from matplotlib) (2.9.0.post0)\n",
      "Requirement already satisfied: six>=1.5 in c:\\users\\godugu naga bhargavi\\appdata\\local\\programs\\python\\python312\\lib\\site-packages (from python-dateutil>=2.7->matplotlib) (1.16.0)\n",
      "Note: you may need to restart the kernel to use updated packages.\n"
     ]
    },
    {
     "name": "stderr",
     "output_type": "stream",
     "text": [
      "\n",
      "[notice] A new release of pip is available: 24.0 -> 24.1\n",
      "[notice] To update, run: python.exe -m pip install --upgrade pip\n"
     ]
    }
   ],
   "source": [
    "pip install matplotlib"
   ]
  },
  {
   "cell_type": "code",
   "execution_count": 57,
   "id": "59885433-9788-486f-8090-20353d8a5883",
   "metadata": {},
   "outputs": [],
   "source": [
    "import matplotlib.pyplot as plt\n",
    "import seaborn as sns"
   ]
  },
  {
   "cell_type": "code",
   "execution_count": 152,
   "id": "a81beff4-5de3-4f2f-b18a-98fd0b4826a1",
   "metadata": {},
   "outputs": [
    {
     "data": {
      "image/png": "[encoded data removed]",
      "text/plain": [
       "<Figure size 640x480 with 1 Axes>"
      ]
     },
     "metadata": {},
     "output_type": "display_data"
    }
   ],
   "source": [
    "value_counts.plot(kind = 'bar' , color = ['yellow', 'red'])\n",
    "plt.title(\"Sentiment value counts\")\n",
    "plt.xlabel('Liked')\n",
    "plt.ylabel('Count')\n",
    "plt.xticks(ticks=[0,1] , labels=['Postive','Negative'],rotation=0)\n",
    "plt.show()"
   ]
  },
  {
   "cell_type": "code",
   "execution_count": 59,
   "id": "b6aa8a22-9b22-47cd-bc45-f435b4a69f87",
   "metadata": {},
   "outputs": [
    {
     "name": "stdout",
     "output_type": "stream",
     "text": [
      "Requirement already satisfied: wordcloud in c:\\users\\godugu naga bhargavi\\appdata\\local\\programs\\python\\python312\\lib\\site-packages (1.9.3)Note: you may need to restart the kernel to use updated packages.\n",
      "\n",
      "Requirement already satisfied: numpy>=1.6.1 in c:\\users\\godugu naga bhargavi\\appdata\\local\\programs\\python\\python312\\lib\\site-packages (from wordcloud) (1.26.4)\n",
      "Requirement already satisfied: pillow in c:\\users\\godugu naga bhargavi\\appdata\\local\\programs\\python\\python312\\lib\\site-packages (from wordcloud) (10.3.0)\n",
      "Requirement already satisfied: matplotlib in c:\\users\\godugu naga bhargavi\\appdata\\local\\programs\\python\\python312\\lib\\site-packages (from wordcloud) (3.8.4)\n",
      "Requirement already satisfied: contourpy>=1.0.1 in c:\\users\\godugu naga bhargavi\\appdata\\local\\programs\\python\\python312\\lib\\site-packages (from matplotlib->wordcloud) (1.2.1)\n",
      "Requirement already satisfied: cycler>=0.10 in c:\\users\\godugu naga bhargavi\\appdata\\local\\programs\\python\\python312\\lib\\site-packages (from matplotlib->wordcloud) (0.12.1)\n",
      "Requirement already satisfied: fonttools>=4.22.0 in c:\\users\\godugu naga bhargavi\\appdata\\local\\programs\\python\\python312\\lib\\site-packages (from matplotlib->wordcloud) (4.51.0)\n",
      "Requirement already satisfied: kiwisolver>=1.3.1 in c:\\users\\godugu naga bhargavi\\appdata\\local\\programs\\python\\python312\\lib\\site-packages (from matplotlib->wordcloud) (1.4.5)\n",
      "Requirement already satisfied: packaging>=20.0 in c:\\users\\godugu naga bhargavi\\appdata\\local\\programs\\python\\python312\\lib\\site-packages (from matplotlib->wordcloud) (24.0)\n",
      "Requirement already satisfied: pyparsing>=2.3.1 in c:\\users\\godugu naga bhargavi\\appdata\\local\\programs\\python\\python312\\lib\\site-packages (from matplotlib->wordcloud) (3.1.2)\n",
      "Requirement already satisfied: python-dateutil>=2.7 in c:\\users\\godugu naga bhargavi\\appdata\\local\\programs\\python\\python312\\lib\\site-packages (from matplotlib->wordcloud) (2.9.0.post0)\n",
      "Requirement already satisfied: six>=1.5 in c:\\users\\godugu naga bhargavi\\appdata\\local\\programs\\python\\python312\\lib\\site-packages (from python-dateutil>=2.7->matplotlib->wordcloud) (1.16.0)\n"
     ]
    },
    {
     "name": "stderr",
     "output_type": "stream",
     "text": [
      "\n",
      "[notice] A new release of pip is available: 24.0 -> 24.1\n",
      "[notice] To update, run: python.exe -m pip install --upgrade pip\n"
     ]
    }
   ],
   "source": [
    "pip install wordcloud"
   ]
  },
  {
   "cell_type": "code",
   "execution_count": 60,
   "id": "13999c71",
   "metadata": {},
   "outputs": [],
   "source": [
    "from wordcloud import WordCloud"
   ]
  },
  {
   "cell_type": "code",
   "execution_count": 61,
   "id": "21f4e259-1a18-41ed-8c47-854bac8eecd9",
   "metadata": {},
   "outputs": [
    {
     "data": {
      "image/png": "[encoded data removed]",
      "text/plain": [
       "<Figure size 1000x600 with 1 Axes>"
      ]
     },
     "metadata": {},
     "output_type": "display_data"
    }
   ],
   "source": [
    "combined_text = \" \".join(data['Review'])\n",
    "wordcloud = WordCloud(width = 800 , height = 400 ,background_color = 'white').generate(combined_text)\n",
    "plt.figure(figsize=(10,6))\n",
    "plt.imshow(wordcloud, interpolation = 'bilinear')\n",
    "plt.axis('off')\n",
    "plt.title('Word Cloud of Reviews')\n",
    "plt.show()"
   ]
  },
  {
   "cell_type": "code",
   "execution_count": 62,
   "id": "10a9014b-2ad3-46b6-be1c-8d633238db81",
   "metadata": {},
   "outputs": [],
   "source": [
    "from collections import Counter"
   ]
  },
  {
   "cell_type": "code",
   "execution_count": 63,
   "id": "e457e5d9-8a47-4f7a-b38d-0793994f1804",
   "metadata": {},
   "outputs": [],
   "source": [
    "targeted_words = ['good', 'great', 'amazing', 'love', 'worth', 'best','better','bad','nice','pretty','excellent']\n",
    "all_words = \" \".join(data['Review']).lower().split() # flattern reviews into a singlie list of words\n",
    "word_counts = Counter(all_words) # count of target words\n",
    "target_word_count = {word: word_counts[word] for word in targeted_words}"
   ]
  },
  {
   "cell_type": "code",
   "execution_count": 153,
   "id": "f8b672e0-2dab-457e-a60e-80614d7b888f",
   "metadata": {},
   "outputs": [
    {
     "data": {
      "image/png": "[encoded data removed]",
      "text/plain": [
       "<Figure size 800x600 with 1 Axes>"
      ]
     },
     "metadata": {},
     "output_type": "display_data"
    }
   ],
   "source": [
    "#plotting\n",
    "plt.figure(figsize=(8,6))\n",
    "plt.bar(target_word_count.keys(), target_word_count.values(), color = ['blue', 'yellow', 'brown', 'green', 'purple','red','black','violet','orange','green','blue'])\n",
    "plt.xlabel('WORDS')\n",
    "plt.ylabel('FREQUENCY')\n",
    "plt.title('Frequency of specific words in reviews')\n",
    "plt.show()"
   ]
  },
  {
   "cell_type": "code",
   "execution_count": 65,
   "id": "62eb9aad-9e15-4ba9-a430-bc21592c471d",
   "metadata": {},
   "outputs": [],
   "source": [
    "#Text preprocessing"
   ]
  },
  {
   "cell_type": "code",
   "execution_count": 66,
   "id": "7b1ca840-2c14-469b-9280-405a10551dad",
   "metadata": {},
   "outputs": [],
   "source": [
    "#convert a data set into lower case\n",
    "lowercased_text = data['Review'].str.lower()"
   ]
  },
  {
   "cell_type": "code",
   "execution_count": 67,
   "id": "4fc537ea-6d78-4822-a3c8-1fe595a893a9",
   "metadata": {
    "scrolled": true
   },
   "outputs": [
    {
     "name": "stdout",
     "output_type": "stream",
     "text": [
      "0                               wow... loved this place.\n",
      "1                                     crust is not good.\n",
      "2              not tasty and the texture was just nasty.\n",
      "3      stopped by during the late may bank holiday of...\n",
      "4      the selection on the menu was great and so wer...\n",
      "                             ...                        \n",
      "995    i think food should have flavor and texture an...\n",
      "996                             appetite instantly gone.\n",
      "997    overall i was not impressed and would not go b...\n",
      "998    the whole experience was underwhelming, and i ...\n",
      "999    then, as if i hadn't wasted enough of my life ...\n",
      "Name: Review, Length: 1000, dtype: object\n"
     ]
    }
   ],
   "source": [
    "print(lowercased_text)"
   ]
  },
  {
   "cell_type": "code",
   "execution_count": 78,
   "id": "e92aff5a",
   "metadata": {},
   "outputs": [
    {
     "name": "stderr",
     "output_type": "stream",
     "text": [
      "[nltk_data] Downloading package punkt to C:\\Users\\godugu naga\n",
      "[nltk_data]     bhargavi\\AppData\\Roaming\\nltk_data...\n",
      "[nltk_data]   Package punkt is already up-to-date!\n",
      "[nltk_data] Downloading package stopwords to C:\\Users\\godugu naga\n",
      "[nltk_data]     bhargavi\\AppData\\Roaming\\nltk_data...\n",
      "[nltk_data]   Package stopwords is already up-to-date!\n"
     ]
    },
    {
     "data": {
      "text/plain": [
       "True"
      ]
     },
     "execution_count": 78,
     "metadata": {},
     "output_type": "execute_result"
    }
   ],
   "source": [
    "import nltk\n",
    "from nltk.corpus import stopwords\n",
    "nltk.download('punkt')\n",
    "\n",
    "import nltk\n",
    "nltk.download('stopwords')"
   ]
  },
  {
   "cell_type": "code",
   "execution_count": 79,
   "id": "6486ea81-96a6-400f-b663-d6482c65cc7b",
   "metadata": {},
   "outputs": [],
   "source": [
    "#tokinization\n",
    "from nltk.tokenize import word_tokenize"
   ]
  },
  {
   "cell_type": "code",
   "execution_count": 80,
   "id": "137a30e7-29b5-48b7-832d-4cd5d923ac81",
   "metadata": {},
   "outputs": [],
   "source": [
    "data['Tokens'] = data['Review'].apply(word_tokenize)"
   ]
  },
  {
   "cell_type": "code",
   "execution_count": 81,
   "id": "a8078d2e-d9c1-4817-a315-a6354876e241",
   "metadata": {},
   "outputs": [
    {
     "name": "stdout",
     "output_type": "stream",
     "text": [
      "0                      [Wow, ..., Loved, this, place, .]\n",
      "1                              [Crust, is, not, good, .]\n",
      "2      [Not, tasty, and, the, texture, was, just, nas...\n",
      "3      [Stopped, by, during, the, late, May, bank, ho...\n",
      "4      [The, selection, on, the, menu, was, great, an...\n",
      "                             ...                        \n",
      "995    [I, think, food, should, have, flavor, and, te...\n",
      "996                       [Appetite, instantly, gone, .]\n",
      "997    [Overall, I, was, not, impressed, and, would, ...\n",
      "998    [The, whole, experience, was, underwhelming, ,...\n",
      "999    [Then, ,, as, if, I, had, n't, wasted, enough,...\n",
      "Name: Tokens, Length: 1000, dtype: object\n"
     ]
    }
   ],
   "source": [
    "print(data['Tokens'])"
   ]
  },
  {
   "cell_type": "code",
   "execution_count": 82,
   "id": "2621c33b-c4df-4cec-9e41-9d7e7dbf687e",
   "metadata": {},
   "outputs": [
    {
     "name": "stdout",
     "output_type": "stream",
     "text": [
      "<class 'pandas.core.frame.DataFrame'>\n",
      "RangeIndex: 1000 entries, 0 to 999\n",
      "Data columns (total 3 columns):\n",
      " #   Column  Non-Null Count  Dtype \n",
      "---  ------  --------------  ----- \n",
      " 0   Review  1000 non-null   object\n",
      " 1   Liked   1000 non-null   int64 \n",
      " 2   Tokens  1000 non-null   object\n",
      "dtypes: int64(1), object(2)\n",
      "memory usage: 23.6+ KB\n"
     ]
    }
   ],
   "source": [
    "data.info()"
   ]
  },
  {
   "cell_type": "code",
   "execution_count": 83,
   "id": "4f6aa820-8b58-49e3-9c4b-284f9788365f",
   "metadata": {},
   "outputs": [
    {
     "data": {
      "text/plain": [
       "Review\n",
       "#NAME?                                                                                                                                    4\n",
       "The food was terrible.                                                                                                                    2\n",
       "I would not recommend this place.                                                                                                         2\n",
       "I love this place.                                                                                                                        2\n",
       "I won't be back.                                                                                                                          2\n",
       "                                                                                                                                         ..\n",
       "OMG, the food was delicioso!                                                                                                              1\n",
       "There is nothing authentic about this place.                                                                                              1\n",
       "the spaghetti is nothing special whatsoever.                                                                                              1\n",
       "Of all the dishes, the salmon was the best, but all were great.                                                                           1\n",
       "Then, as if I hadn't wasted enough of my life there, they poured salt in the wound by drawing out the time it took to bring the check.    1\n",
       "Name: count, Length: 993, dtype: int64"
      ]
     },
     "execution_count": 83,
     "metadata": {},
     "output_type": "execute_result"
    }
   ],
   "source": [
    "data['Review'].value_counts()"
   ]
  },
  {
   "cell_type": "code",
   "execution_count": 84,
   "id": "a30cf4e3-d071-4e05-9a81-31c9261bceea",
   "metadata": {},
   "outputs": [],
   "source": [
    "import string"
   ]
  },
  {
   "cell_type": "code",
   "execution_count": 85,
   "id": "bbeaf7a1-aa3e-43a7-b201-9637dd1d5610",
   "metadata": {},
   "outputs": [],
   "source": [
    "data['Review'] = data['Review'].str.replace(f\"[{string.punctuation}]\",\" \",regex = True)"
   ]
  },
  {
   "cell_type": "code",
   "execution_count": 86,
   "id": "57f65f04-c7e7-4671-a45b-684c8fb76a3e",
   "metadata": {},
   "outputs": [
    {
     "name": "stdout",
     "output_type": "stream",
     "text": [
      "0                               Wow    Loved this place \n",
      "1                                     Crust is not good \n",
      "2              Not tasty and the texture was just nasty \n",
      "3      Stopped by during the late May bank holiday of...\n",
      "4      The selection on the menu was great and so wer...\n",
      "                             ...                        \n",
      "995    I think food should have flavor and texture an...\n",
      "996                             Appetite instantly gone \n",
      "997    Overall I was not impressed and would not go b...\n",
      "998    The whole experience was underwhelming  and I ...\n",
      "999    Then  as if I hadn t wasted enough of my life ...\n",
      "Name: Review, Length: 1000, dtype: object\n"
     ]
    }
   ],
   "source": [
    "print(data['Review'])"
   ]
  },
  {
   "cell_type": "code",
   "execution_count": 87,
   "id": "8b6db2a5-1aee-440d-8f5a-5737da093d6e",
   "metadata": {},
   "outputs": [
    {
     "data": {
      "text/plain": [
       "Review\n",
       " NAME                                                                                                                                     4\n",
       "I would not recommend this place                                                                                                          2\n",
       "I love this place                                                                                                                         2\n",
       "I won t be back                                                                                                                           2\n",
       "Will not be back                                                                                                                          2\n",
       "                                                                                                                                         ..\n",
       "The burger    I got the  Gold Standard  a  17 burger and was kind of disappointed                                                         1\n",
       "OMG  the food was delicioso                                                                                                               1\n",
       "There is nothing authentic about this place                                                                                               1\n",
       "the spaghetti is nothing special whatsoever                                                                                               1\n",
       "Then  as if I hadn t wasted enough of my life there  they poured salt in the wound by drawing out the time it took to bring the check     1\n",
       "Name: count, Length: 992, dtype: int64"
      ]
     },
     "execution_count": 87,
     "metadata": {},
     "output_type": "execute_result"
    }
   ],
   "source": [
    "data['Review'].value_counts()"
   ]
  },
  {
   "cell_type": "code",
   "execution_count": 88,
   "id": "230d36a0-58c1-4e66-a19a-dd74efc51213",
   "metadata": {},
   "outputs": [],
   "source": [
    "#Removing the stop words like this, is , are ,was \n",
    "from nltk.corpus import stopwords"
   ]
  },
  {
   "cell_type": "code",
   "execution_count": 89,
   "id": "eb77900b",
   "metadata": {},
   "outputs": [
    {
     "name": "stderr",
     "output_type": "stream",
     "text": [
      "[nltk_data] Downloading package stopwords to C:\\Users\\godugu naga\n",
      "[nltk_data]     bhargavi\\AppData\\Roaming\\nltk_data...\n",
      "[nltk_data]   Package stopwords is already up-to-date!\n"
     ]
    },
    {
     "data": {
      "text/plain": [
       "True"
      ]
     },
     "execution_count": 89,
     "metadata": {},
     "output_type": "execute_result"
    }
   ],
   "source": [
    "nltk.download('stopwords')"
   ]
  },
  {
   "cell_type": "code",
   "execution_count": 90,
   "id": "3f33352d-2624-46a7-a0d6-5d3f8a6b6ec7",
   "metadata": {},
   "outputs": [],
   "source": [
    "stop_words = set(stopwords.words('english'))"
   ]
  },
  {
   "cell_type": "code",
   "execution_count": 91,
   "id": "c4a0e980-f1be-4713-8e75-95ae177f5edf",
   "metadata": {},
   "outputs": [],
   "source": [
    "data['Tokens'] = data['Review'].apply(lambda x: [word for word in word_tokenize(x) if word not in stop_words])"
   ]
  },
  {
   "cell_type": "code",
   "execution_count": 92,
   "id": "129f7b09-0d66-4869-9704-1a32f4dfe5b8",
   "metadata": {},
   "outputs": [
    {
     "name": "stdout",
     "output_type": "stream",
     "text": [
      "0                                    [Wow, Loved, place]\n",
      "1                                          [Crust, good]\n",
      "2                           [Not, tasty, texture, nasty]\n",
      "3      [Stopped, late, May, bank, holiday, Rick, Stev...\n",
      "4                  [The, selection, menu, great, prices]\n",
      "                             ...                        \n",
      "995           [I, think, food, flavor, texture, lacking]\n",
      "996                          [Appetite, instantly, gone]\n",
      "997             [Overall, I, impressed, would, go, back]\n",
      "998    [The, whole, experience, underwhelming, I, thi...\n",
      "999    [Then, I, wasted, enough, life, poured, salt, ...\n",
      "Name: Tokens, Length: 1000, dtype: object\n"
     ]
    }
   ],
   "source": [
    "print(data['Tokens'])"
   ]
  },
  {
   "cell_type": "code",
   "execution_count": 93,
   "id": "9b4e630e-22bc-47e9-abe8-a9be65812cdd",
   "metadata": {},
   "outputs": [],
   "source": [
    "#stemming\n",
    "#stemming is the process of reducing the a word into root or base word form by removig suffix \n",
    "#example : driving stemmed is drive"
   ]
  },
  {
   "cell_type": "code",
   "execution_count": 94,
   "id": "714af462-a9cc-4721-b8c2-18338e6111d1",
   "metadata": {},
   "outputs": [],
   "source": [
    "#Stemming\n",
    "from nltk.stem import PorterStemmer\n",
    "from nltk.tokenize import word_tokenize"
   ]
  },
  {
   "cell_type": "code",
   "execution_count": 95,
   "id": "04041979-5d80-4b67-b1e3-b503e75c9f27",
   "metadata": {},
   "outputs": [],
   "source": [
    "stemmer = PorterStemmer()"
   ]
  },
  {
   "cell_type": "code",
   "execution_count": 96,
   "id": "e78c227e-a481-4ea1-a645-bed34b652023",
   "metadata": {},
   "outputs": [],
   "source": [
    "data['stemmed'] = data['Review'].apply(lambda x: ' '.join([stemmer.stem(word) for word in word_tokenize(x)]))"
   ]
  },
  {
   "cell_type": "code",
   "execution_count": 97,
   "id": "a1049395-6967-4266-b7da-f9b1778d7c7d",
   "metadata": {},
   "outputs": [
    {
     "name": "stdout",
     "output_type": "stream",
     "text": [
      "0                                     wow love thi place\n",
      "1                                      crust is not good\n",
      "2                 not tasti and the textur wa just nasti\n",
      "3      stop by dure the late may bank holiday off ric...\n",
      "4      the select on the menu wa great and so were th...\n",
      "                             ...                        \n",
      "995    i think food should have flavor and textur and...\n",
      "996                               appetit instantli gone\n",
      "997        overal i wa not impress and would not go back\n",
      "998    the whole experi wa underwhelm and i think we ...\n",
      "999    then as if i hadn t wast enough of my life the...\n",
      "Name: stemmed, Length: 1000, dtype: object\n"
     ]
    }
   ],
   "source": [
    "print(data['stemmed'])"
   ]
  },
  {
   "cell_type": "code",
   "execution_count": 98,
   "id": "1c8c4c41-ae25-4aee-9b62-70edbf456c6f",
   "metadata": {},
   "outputs": [],
   "source": [
    "#Lemmatization\n",
    "#Lemmatization is the process transforming a word into its base or dictionary form\n",
    "#example is better is lemmtized to good "
   ]
  },
  {
   "cell_type": "code",
   "execution_count": 102,
   "id": "1102c1fa-4db4-4897-b666-78607dbc28e1",
   "metadata": {},
   "outputs": [
    {
     "name": "stderr",
     "output_type": "stream",
     "text": [
      "[nltk_data] Downloading package wordnet to C:\\Users\\godugu naga\n",
      "[nltk_data]     bhargavi\\AppData\\Roaming\\nltk_data...\n",
      "[nltk_data]   Package wordnet is already up-to-date!\n"
     ]
    },
    {
     "data": {
      "text/plain": [
       "True"
      ]
     },
     "execution_count": 102,
     "metadata": {},
     "output_type": "execute_result"
    }
   ],
   "source": [
    "import nltk\n",
    "nltk.download('wordnet')"
   ]
  },
  {
   "cell_type": "code",
   "execution_count": 103,
   "id": "4cb919e5-5aee-4094-be5c-235a9b57680b",
   "metadata": {},
   "outputs": [],
   "source": [
    "from nltk.stem import WordNetLemmatizer\n",
    "from nltk.tokenize import word_tokenize\n",
    "from nltk.corpus import wordnet"
   ]
  },
  {
   "cell_type": "code",
   "execution_count": 104,
   "id": "cc4f880e-a5d3-4014-bf0a-c823445164e5",
   "metadata": {},
   "outputs": [],
   "source": [
    "lemmatizer = WordNetLemmatizer()"
   ]
  },
  {
   "cell_type": "code",
   "execution_count": 105,
   "id": "a71a9f9b-b8ce-431f-bc20-56d0d8be51d4",
   "metadata": {},
   "outputs": [],
   "source": [
    "data['Lemmatized'] = data['Review'].apply(lambda x :' '.join([lemmatizer.lemmatize(word , pos = wordnet.VERB) for word in word_tokenize(x)]))"
   ]
  },
  {
   "cell_type": "code",
   "execution_count": 106,
   "id": "21cf6f57-4822-4c06-a287-538b33a85b2b",
   "metadata": {},
   "outputs": [
    {
     "name": "stdout",
     "output_type": "stream",
     "text": [
      "0                                   Wow Loved this place\n",
      "1                                      Crust be not good\n",
      "2                Not tasty and the texture be just nasty\n",
      "3      Stopped by during the late May bank holiday of...\n",
      "4      The selection on the menu be great and so be t...\n",
      "                             ...                        \n",
      "995    I think food should have flavor and texture an...\n",
      "996                                Appetite instantly go\n",
      "997       Overall I be not impress and would not go back\n",
      "998    The whole experience be underwhelming and I th...\n",
      "999    Then as if I hadn t waste enough of my life th...\n",
      "Name: Lemmatized, Length: 1000, dtype: object\n"
     ]
    }
   ],
   "source": [
    "print(data['Lemmatized'])"
   ]
  },
  {
   "cell_type": "code",
   "execution_count": 107,
   "id": "cdc351b8-171f-4ace-9da6-e914a31e4106",
   "metadata": {},
   "outputs": [],
   "source": [
    "#Removing the numbers from reviews\n",
    "import re\n",
    "data['No_Numbers'] = data['Review'].apply(lambda x : re.sub(r'\\d+',' ' ,x))"
   ]
  },
  {
   "cell_type": "code",
   "execution_count": 108,
   "id": "88481d12-322a-4c6e-b0f4-78a8c4640e65",
   "metadata": {},
   "outputs": [
    {
     "name": "stdout",
     "output_type": "stream",
     "text": [
      "0                               Wow    Loved this place \n",
      "1                                     Crust is not good \n",
      "2              Not tasty and the texture was just nasty \n",
      "3      Stopped by during the late May bank holiday of...\n",
      "4      The selection on the menu was great and so wer...\n",
      "                             ...                        \n",
      "995    I think food should have flavor and texture an...\n",
      "996                             Appetite instantly gone \n",
      "997    Overall I was not impressed and would not go b...\n",
      "998    The whole experience was underwhelming  and I ...\n",
      "999    Then  as if I hadn t wasted enough of my life ...\n",
      "Name: No_Numbers, Length: 1000, dtype: object\n"
     ]
    }
   ],
   "source": [
    "print(data['No_Numbers'])"
   ]
  },
  {
   "cell_type": "code",
   "execution_count": 109,
   "id": "9860a24b-84c0-462e-b4a6-d71ddb8069c6",
   "metadata": {},
   "outputs": [],
   "source": [
    "#removing special characters like @ # %,*\n",
    "data['cleaned_text'] = data['Review'].apply(lambda x: re.sub(r'[^A-Za-z0-9\\s]',' ' ,x))"
   ]
  },
  {
   "cell_type": "code",
   "execution_count": 110,
   "id": "b14eafc6-392b-48f4-b1d7-46f4c634dc61",
   "metadata": {},
   "outputs": [
    {
     "name": "stdout",
     "output_type": "stream",
     "text": [
      "0                               Wow    Loved this place \n",
      "1                                     Crust is not good \n",
      "2              Not tasty and the texture was just nasty \n",
      "3      Stopped by during the late May bank holiday of...\n",
      "4      The selection on the menu was great and so wer...\n",
      "                             ...                        \n",
      "995    I think food should have flavor and texture an...\n",
      "996                             Appetite instantly gone \n",
      "997    Overall I was not impressed and would not go b...\n",
      "998    The whole experience was underwhelming  and I ...\n",
      "999    Then  as if I hadn t wasted enough of my life ...\n",
      "Name: cleaned_text, Length: 1000, dtype: object\n"
     ]
    }
   ],
   "source": [
    "print(data['cleaned_text'])"
   ]
  },
  {
   "cell_type": "code",
   "execution_count": 111,
   "id": "0a7a7812-ede8-4ef3-b623-7bfaee264666",
   "metadata": {},
   "outputs": [
    {
     "name": "stdout",
     "output_type": "stream",
     "text": [
      "<class 'pandas.core.frame.DataFrame'>\n",
      "RangeIndex: 1000 entries, 0 to 999\n",
      "Data columns (total 7 columns):\n",
      " #   Column        Non-Null Count  Dtype \n",
      "---  ------        --------------  ----- \n",
      " 0   Review        1000 non-null   object\n",
      " 1   Liked         1000 non-null   int64 \n",
      " 2   Tokens        1000 non-null   object\n",
      " 3   stemmed       1000 non-null   object\n",
      " 4   Lemmatized    1000 non-null   object\n",
      " 5   No_Numbers    1000 non-null   object\n",
      " 6   cleaned_text  1000 non-null   object\n",
      "dtypes: int64(1), object(6)\n",
      "memory usage: 54.8+ KB\n"
     ]
    }
   ],
   "source": [
    "data.info()"
   ]
  },
  {
   "cell_type": "code",
   "execution_count": 112,
   "id": "3cbc6025-7a1a-459f-9112-af0b3c6f54c7",
   "metadata": {},
   "outputs": [],
   "source": [
    "# Normalization"
   ]
  },
  {
   "cell_type": "code",
   "execution_count": 113,
   "id": "83785dad-4083-4b3b-9083-4fe2b60be65a",
   "metadata": {},
   "outputs": [],
   "source": [
    "# expanding method\n",
    "# don't eat food in this hotel , when we apply expanted text it will convert into do not eat food in this hotel"
   ]
  },
  {
   "cell_type": "code",
   "execution_count": 114,
   "id": "24d8bb04",
   "metadata": {},
   "outputs": [
    {
     "name": "stdout",
     "output_type": "stream",
     "text": [
      "Collecting contractionsNote: you may need to restart the kernel to use updated packages.\n",
      "\n",
      "  Downloading contractions-0.1.73-py2.py3-none-any.whl.metadata (1.2 kB)\n",
      "Collecting textsearch>=0.0.21 (from contractions)\n",
      "  Downloading textsearch-0.0.24-py2.py3-none-any.whl.metadata (1.2 kB)\n",
      "Collecting anyascii (from textsearch>=0.0.21->contractions)\n",
      "  Downloading anyascii-0.3.2-py3-none-any.whl.metadata (1.5 kB)\n",
      "Collecting pyahocorasick (from textsearch>=0.0.21->contractions)\n",
      "  Downloading pyahocorasick-2.1.0-cp312-cp312-win_amd64.whl.metadata (13 kB)\n",
      "Downloading contractions-0.1.73-py2.py3-none-any.whl (8.7 kB)\n",
      "Downloading textsearch-0.0.24-py2.py3-none-any.whl (7.6 kB)\n",
      "Downloading anyascii-0.3.2-py3-none-any.whl (289 kB)\n",
      "   ---------------------------------------- 0.0/289.9 kB ? eta -:--:--\n",
      "   ---- ----------------------------------- 30.7/289.9 kB 1.4 MB/s eta 0:00:01\n",
      "   ----- --------------------------------- 41.0/289.9 kB 495.5 kB/s eta 0:00:01\n",
      "   ------------ -------------------------- 92.2/289.9 kB 751.6 kB/s eta 0:00:01\n",
      "   -------------- ----------------------- 112.6/289.9 kB 731.4 kB/s eta 0:00:01\n",
      "   ---------------------- --------------- 174.1/289.9 kB 751.6 kB/s eta 0:00:01\n",
      "   -------------------------- ----------- 204.8/289.9 kB 778.2 kB/s eta 0:00:01\n",
      "   -------------------------------------  286.7/289.9 kB 886.2 kB/s eta 0:00:01\n",
      "   -------------------------------------- 289.9/289.9 kB 815.4 kB/s eta 0:00:00\n",
      "Downloading pyahocorasick-2.1.0-cp312-cp312-win_amd64.whl (39 kB)\n",
      "Installing collected packages: pyahocorasick, anyascii, textsearch, contractions\n",
      "Successfully installed anyascii-0.3.2 contractions-0.1.73 pyahocorasick-2.1.0 textsearch-0.0.24\n"
     ]
    },
    {
     "name": "stderr",
     "output_type": "stream",
     "text": [
      "\n",
      "[notice] A new release of pip is available: 24.0 -> 24.1\n",
      "[notice] To update, run: python.exe -m pip install --upgrade pip\n"
     ]
    }
   ],
   "source": [
    "pip install contractions"
   ]
  },
  {
   "cell_type": "code",
   "execution_count": 115,
   "id": "ed946166-0f1f-4426-8681-91ab8eefe5d2",
   "metadata": {},
   "outputs": [],
   "source": [
    "import contractions\n",
    "data['Expanded'] = data['Review'].apply(contractions.fix)\n"
   ]
  },
  {
   "cell_type": "code",
   "execution_count": 116,
   "id": "e9f47e49-5964-4e5e-a4b9-e34f49b3def2",
   "metadata": {},
   "outputs": [
    {
     "name": "stdout",
     "output_type": "stream",
     "text": [
      "0                               Wow    Loved this place \n",
      "1                                     Crust is not good \n",
      "2              Not tasty and the texture was just nasty \n",
      "3      Stopped by during the late May bank holiday of...\n",
      "4      The selection on the menu was great and so wer...\n",
      "                             ...                        \n",
      "995    I think food should have flavor and texture an...\n",
      "996                             Appetite instantly gone \n",
      "997    Overall I was not impressed and would not go b...\n",
      "998    The whole experience was underwhelming  and I ...\n",
      "999    Then  as if I hadn t wasted enough of my life ...\n",
      "Name: Expanded, Length: 1000, dtype: object\n"
     ]
    }
   ],
   "source": [
    "print(data['Expanded'])"
   ]
  },
  {
   "cell_type": "code",
   "execution_count": 117,
   "id": "3891b7cb-aa79-4d55-8a97-0f1e16b457f5",
   "metadata": {},
   "outputs": [
    {
     "name": "stdout",
     "output_type": "stream",
     "text": [
      "Collecting emoji\n",
      "  Downloading emoji-2.12.1-py3-none-any.whl.metadata (5.4 kB)\n",
      "Requirement already satisfied: typing-extensions>=4.7.0 in c:\\users\\godugu naga bhargavi\\appdata\\local\\programs\\python\\python312\\lib\\site-packages (from emoji) (4.11.0)\n",
      "Downloading emoji-2.12.1-py3-none-any.whl (431 kB)\n",
      "   ---------------------------------------- 0.0/431.4 kB ? eta -:--:--\n",
      "    --------------------------------------- 10.2/431.4 kB ? eta -:--:--\n",
      "    --------------------------------------- 10.2/431.4 kB ? eta -:--:--\n",
      "   -- ------------------------------------ 30.7/431.4 kB 262.6 kB/s eta 0:00:02\n",
      "   ----- --------------------------------- 61.4/431.4 kB 409.6 kB/s eta 0:00:01\n",
      "   ---------- --------------------------- 122.9/431.4 kB 602.4 kB/s eta 0:00:01\n",
      "   ------------------- ------------------ 225.3/431.4 kB 919.0 kB/s eta 0:00:01\n",
      "   ------------------- ------------------ 225.3/431.4 kB 919.0 kB/s eta 0:00:01\n",
      "   ------------------- ------------------ 225.3/431.4 kB 919.0 kB/s eta 0:00:01\n",
      "   ------------------------------- ------ 358.4/431.4 kB 928.4 kB/s eta 0:00:01\n",
      "   ------------------------------------ - 419.8/431.4 kB 970.6 kB/s eta 0:00:01\n",
      "   -------------------------------------- 431.4/431.4 kB 929.6 kB/s eta 0:00:00\n",
      "Installing collected packages: emoji\n",
      "Successfully installed emoji-2.12.1\n"
     ]
    },
    {
     "name": "stderr",
     "output_type": "stream",
     "text": [
      "\n",
      "[notice] A new release of pip is available: 24.0 -> 24.1\n",
      "[notice] To update, run: python.exe -m pip install --upgrade pip\n"
     ]
    }
   ],
   "source": [
    "#Removing emojis\n",
    "!pip install emoji"
   ]
  },
  {
   "cell_type": "code",
   "execution_count": 118,
   "id": "09b2d17f-7fdb-440a-8f05-f429de59a53d",
   "metadata": {},
   "outputs": [],
   "source": [
    "import emoji\n",
    "data['emoji'] = data['Review'].apply(emoji.demojize)"
   ]
  },
  {
   "cell_type": "code",
   "execution_count": 119,
   "id": "76b22635-b88b-4854-ad60-ac365d457b30",
   "metadata": {},
   "outputs": [
    {
     "name": "stdout",
     "output_type": "stream",
     "text": [
      "0                               Wow    Loved this place \n",
      "1                                     Crust is not good \n",
      "2              Not tasty and the texture was just nasty \n",
      "3      Stopped by during the late May bank holiday of...\n",
      "4      The selection on the menu was great and so wer...\n",
      "                             ...                        \n",
      "995    I think food should have flavor and texture an...\n",
      "996                             Appetite instantly gone \n",
      "997    Overall I was not impressed and would not go b...\n",
      "998    The whole experience was underwhelming  and I ...\n",
      "999    Then  as if I hadn t wasted enough of my life ...\n",
      "Name: emoji, Length: 1000, dtype: object\n"
     ]
    }
   ],
   "source": [
    "print(data['emoji'])"
   ]
  },
  {
   "cell_type": "code",
   "execution_count": 120,
   "id": "e6b2686a-815a-4d8d-9e9b-edb89a9fc67e",
   "metadata": {},
   "outputs": [],
   "source": [
    "# Removing HTML Tags"
   ]
  },
  {
   "cell_type": "code",
   "execution_count": 121,
   "id": "34cce14e-cec4-4c1c-9a98-59bb51c33528",
   "metadata": {},
   "outputs": [],
   "source": [
    "# removing liks from review_ text\n",
    "# food is good vist www.abchotel.in"
   ]
  },
  {
   "cell_type": "code",
   "execution_count": 122,
   "id": "1a24b1fd-5917-40d1-9e0c-bb91ce40114e",
   "metadata": {},
   "outputs": [
    {
     "name": "stdout",
     "output_type": "stream",
     "text": [
      "Requirement already satisfied: beautifulsoup4 in c:\\users\\godugu naga bhargavi\\appdata\\local\\programs\\python\\python312\\lib\\site-packages (4.12.3)\n",
      "Requirement already satisfied: soupsieve>1.2 in c:\\users\\godugu naga bhargavi\\appdata\\local\\programs\\python\\python312\\lib\\site-packages (from beautifulsoup4) (2.5)\n"
     ]
    },
    {
     "name": "stderr",
     "output_type": "stream",
     "text": [
      "\n",
      "[notice] A new release of pip is available: 24.0 -> 24.1\n",
      "[notice] To update, run: python.exe -m pip install --upgrade pip\n"
     ]
    }
   ],
   "source": [
    "!pip install beautifulsoup4"
   ]
  },
  {
   "cell_type": "code",
   "execution_count": 123,
   "id": "7e59285b-b6fc-44c2-bb1d-b5dbb0657063",
   "metadata": {},
   "outputs": [],
   "source": [
    "from bs4 import BeautifulSoup"
   ]
  },
  {
   "cell_type": "code",
   "execution_count": 124,
   "id": "afd8c021-3c64-4f54-acd1-1ea762fc5ff1",
   "metadata": {},
   "outputs": [],
   "source": [
    "data['cleaned'] = data['Review'].apply(lambda x: BeautifulSoup(x,\"html.parser\").get_text())"
   ]
  },
  {
   "cell_type": "code",
   "execution_count": 125,
   "id": "7f19cfc4-0021-4206-b9c2-c824fc742157",
   "metadata": {},
   "outputs": [
    {
     "name": "stdout",
     "output_type": "stream",
     "text": [
      "0                               Wow    Loved this place \n",
      "1                                     Crust is not good \n",
      "2              Not tasty and the texture was just nasty \n",
      "3      Stopped by during the late May bank holiday of...\n",
      "4      The selection on the menu was great and so wer...\n",
      "                             ...                        \n",
      "995    I think food should have flavor and texture an...\n",
      "996                             Appetite instantly gone \n",
      "997    Overall I was not impressed and would not go b...\n",
      "998    The whole experience was underwhelming  and I ...\n",
      "999    Then  as if I hadn t wasted enough of my life ...\n",
      "Name: cleaned, Length: 1000, dtype: object\n"
     ]
    }
   ],
   "source": [
    "print(data['cleaned'])"
   ]
  },
  {
   "cell_type": "code",
   "execution_count": 126,
   "id": "402fac29-7140-4a8f-a48c-390f1317d2ef",
   "metadata": {},
   "outputs": [],
   "source": [
    "#TF IDF VECTORIZER\n",
    "from sklearn.feature_extraction.text import TfidfVectorizer\n",
    "vectorizer = TfidfVectorizer()"
   ]
  },
  {
   "cell_type": "code",
   "execution_count": 127,
   "id": "a5316ca5-f016-4320-aef9-cd609edc4b71",
   "metadata": {},
   "outputs": [
    {
     "name": "stdout",
     "output_type": "stream",
     "text": [
      "[[0. 0. 0. ... 0. 0. 0.]\n",
      " [0. 0. 0. ... 0. 0. 0.]\n",
      " [0. 0. 0. ... 0. 0. 0.]\n",
      " ...\n",
      " [0. 0. 0. ... 0. 0. 0.]\n",
      " [0. 0. 0. ... 0. 0. 0.]\n",
      " [0. 0. 0. ... 0. 0. 0.]]\n"
     ]
    }
   ],
   "source": [
    "X = vectorizer.fit_transform(data['Review'])\n",
    "print(X.toarray())"
   ]
  },
  {
   "cell_type": "code",
   "execution_count": 128,
   "id": "686508c9-5bcf-447f-921e-cf73531e4618",
   "metadata": {},
   "outputs": [],
   "source": [
    "#bulding a machine learning model\n",
    "from sklearn.model_selection import train_test_split\n",
    "from sklearn.naive_bayes import MultinomialNB\n",
    "from sklearn.metrics import accuracy_score,classification_report\n"
   ]
  },
  {
   "cell_type": "code",
   "execution_count": 129,
   "id": "5624915a-cff5-4085-bc6b-1333c700a24a",
   "metadata": {},
   "outputs": [],
   "source": [
    "vectorizer = TfidfVectorizer()"
   ]
  },
  {
   "cell_type": "code",
   "execution_count": 130,
   "id": "66c9f760-adc7-4665-b7bd-5286dfed23e5",
   "metadata": {},
   "outputs": [],
   "source": [
    "X = vectorizer.fit_transform(data['Review'])\n",
    "y = data['Liked']"
   ]
  },
  {
   "cell_type": "code",
   "execution_count": 131,
   "id": "beb6899c-97f9-4ad6-9b39-13e2d81807f5",
   "metadata": {},
   "outputs": [],
   "source": [
    "X_train,X_test,y_train,y_test = train_test_split(X,y , test_size = 0.2 , random_state = 42)"
   ]
  },
  {
   "cell_type": "code",
   "execution_count": 132,
   "id": "503abc55-16a9-4a9d-ae99-f1d890923261",
   "metadata": {},
   "outputs": [
    {
     "name": "stdout",
     "output_type": "stream",
     "text": [
      "  (0, 1527)\t0.578582388550776\n",
      "  (0, 1516)\t0.5587881819736206\n",
      "  (0, 2005)\t0.45560954528848707\n",
      "  (0, 1938)\t0.20794801889277578\n",
      "  (0, 1778)\t0.3196494189359375\n",
      "  (1, 711)\t0.4193390530637025\n",
      "  (1, 622)\t0.4193390530637025\n",
      "  (1, 1180)\t0.3554925882290983\n",
      "  (1, 613)\t0.32026666852400937\n",
      "  (1, 1471)\t0.272554926639921\n",
      "  (1, 62)\t0.5164170315313602\n",
      "  (1, 263)\t0.27998403419950374\n",
      "  (2, 1057)\t0.5102287539842273\n",
      "  (2, 1962)\t0.48790050997574835\n",
      "  (2, 699)\t0.3031291394604372\n",
      "  (2, 1618)\t0.5102287539842273\n",
      "  (2, 1571)\t0.3198299691276987\n",
      "  (2, 1938)\t0.21704341786509082\n",
      "  (3, 1723)\t0.4538927163856403\n",
      "  (3, 1852)\t0.42838721919777234\n",
      "  (3, 719)\t0.30305480231081033\n",
      "  (3, 1791)\t0.3192733609259723\n",
      "  (3, 821)\t0.37508854376741335\n",
      "  (3, 590)\t0.33614831815132157\n",
      "  (3, 1471)\t0.29501353406759745\n",
      "  :\t:\n",
      "  (797, 1796)\t0.2155139089210878\n",
      "  (798, 649)\t0.34296597014320795\n",
      "  (798, 787)\t0.34296597014320795\n",
      "  (798, 17)\t0.34296597014320795\n",
      "  (798, 406)\t0.32369375609078\n",
      "  (798, 18)\t0.34296597014320795\n",
      "  (798, 122)\t0.34296597014320795\n",
      "  (798, 1320)\t0.29941363785664343\n",
      "  (798, 890)\t0.2907476885588123\n",
      "  (798, 1206)\t0.14757149730549846\n",
      "  (798, 1776)\t0.1774987010047913\n",
      "  (798, 944)\t0.14171411086951774\n",
      "  (798, 1938)\t0.2228482091437908\n",
      "  (798, 63)\t0.09941818111459709\n",
      "  (799, 158)\t0.3964954268406326\n",
      "  (799, 279)\t0.4286481233974752\n",
      "  (799, 1371)\t0.36691217304779694\n",
      "  (799, 1835)\t0.36691217304779694\n",
      "  (799, 179)\t0.2837174144687825\n",
      "  (799, 245)\t0.341391142036711\n",
      "  (799, 699)\t0.20607571915436035\n",
      "  (799, 915)\t0.20607571915436035\n",
      "  (799, 2025)\t0.24443151499428203\n",
      "  (799, 944)\t0.1876634520751288\n",
      "  (799, 1778)\t0.11340570263380041   (0, 762)\t0.47256008939307\n",
      "  (0, 830)\t0.5227794349477328\n",
      "  (0, 850)\t0.2788148086554363\n",
      "  (0, 903)\t0.32903415421009913\n",
      "  (0, 756)\t0.29720151212237056\n",
      "  (0, 2025)\t0.28135721691301263\n",
      "  (0, 1197)\t0.387165119592869\n",
      "  (1, 1658)\t0.4103419207551196\n",
      "  (1, 45)\t0.4103419207551196\n",
      "  (1, 1781)\t0.29575708998809846\n",
      "  (1, 621)\t0.2766223654390893\n",
      "  (1, 1851)\t0.32480705768080226\n",
      "  (1, 1633)\t0.27939699659872946\n",
      "  (1, 716)\t0.26026227204972024\n",
      "  (1, 696)\t0.17703009835601147\n",
      "  (1, 915)\t0.18618945297796038\n",
      "  (1, 1812)\t0.15350378435384465\n",
      "  (1, 1571)\t0.19644751772739483\n",
      "  (1, 1778)\t0.1024620747393945\n",
      "  (1, 63)\t0.11894896563501532\n",
      "  (1, 1759)\t0.3084469642914332\n",
      "  (2, 641)\t0.36530419498595135\n",
      "  (2, 339)\t0.35132051079261234\n",
      "  (2, 654)\t0.3398950088821647\n",
      "  (2, 1471)\t0.5877990721015991\n",
      "  :\t:\n",
      "  (198, 73)\t0.39191145656618687\n",
      "  (198, 719)\t0.30866733735581975\n",
      "  (198, 1641)\t0.35918322904387284\n",
      "  (198, 1982)\t0.27535929343010807\n",
      "  (198, 850)\t0.24655854617575115\n",
      "  (198, 155)\t0.2373165782739377\n",
      "  (198, 696)\t0.19944536250717973\n",
      "  (198, 745)\t0.3659336009279139\n",
      "  (198, 1194)\t0.2043973840668572\n",
      "  (199, 245)\t0.3138625483855926\n",
      "  (199, 1057)\t0.31889764742751303\n",
      "  (199, 1894)\t0.27621491029163275\n",
      "  (199, 1815)\t0.3645234154260868\n",
      "  (199, 1552)\t0.3774360932885095\n",
      "  (199, 1780)\t0.2608394295039084\n",
      "  (199, 1370)\t0.284302533387564\n",
      "  (199, 1812)\t0.15619894024506778\n",
      "  (199, 1807)\t0.24136874538352923\n",
      "  (199, 166)\t0.27621491029163275\n",
      "  (199, 944)\t0.17253092436945436\n",
      "  (199, 1938)\t0.135654125343441\n",
      "  (199, 1778)\t0.10426106142577002\n",
      "  (199, 63)\t0.12103742232574498\n",
      "  (199, 763)\t0.19662646224587704\n",
      "  (199, 942)\t0.16732136895679153 29     0\n",
      "535    1\n",
      "695    0\n",
      "557    0\n",
      "836    1\n",
      "      ..\n",
      "106    1\n",
      "270    1\n",
      "860    1\n",
      "435    0\n",
      "102    1\n",
      "Name: Liked, Length: 800, dtype: int64 521    1\n",
      "737    1\n",
      "740    1\n",
      "660    1\n",
      "411    1\n",
      "      ..\n",
      "408    1\n",
      "332    1\n",
      "208    0\n",
      "613    0\n",
      "78     1\n",
      "Name: Liked, Length: 200, dtype: int64\n"
     ]
    }
   ],
   "source": [
    "print(X_train,X_test,y_train,y_test)"
   ]
  },
  {
   "cell_type": "code",
   "execution_count": 133,
   "id": "d4cd50d2-0531-4ea1-8e1e-b0e5c4f8f147",
   "metadata": {},
   "outputs": [
    {
     "data": {
      "text/html": [
       "<style>#sk-container-id-1 {\n",
       "  /* Definition of color scheme common for light and dark mode */\n",
       "  --sklearn-color-text: black;\n",
       "  --sklearn-color-line: gray;\n",
       "  /* Definition of color scheme for unfitted estimators */\n",
       "  --sklearn-color-unfitted-level-0: #fff5e6;\n",
       "  --sklearn-color-unfitted-level-1: #f6e4d2;\n",
       "  --sklearn-color-unfitted-level-2: #ffe0b3;\n",
       "  --sklearn-color-unfitted-level-3: chocolate;\n",
       "  /* Definition of color scheme for fitted estimators */\n",
       "  --sklearn-color-fitted-level-0: #f0f8ff;\n",
       "  --sklearn-color-fitted-level-1: #d4ebff;\n",
       "  --sklearn-color-fitted-level-2: #b3dbfd;\n",
       "  --sklearn-color-fitted-level-3: cornflowerblue;\n",
       "\n",
       "  /* Specific color for light theme */\n",
       "  --sklearn-color-text-on-default-background: var(--sg-text-color, var(--theme-code-foreground, var(--jp-content-font-color1, black)));\n",
       "  --sklearn-color-background: var(--sg-background-color, var(--theme-background, var(--jp-layout-color0, white)));\n",
       "  --sklearn-color-border-box: var(--sg-text-color, var(--theme-code-foreground, var(--jp-content-font-color1, black)));\n",
       "  --sklearn-color-icon: #696969;\n",
       "\n",
       "  @media (prefers-color-scheme: dark) {\n",
       "    /* Redefinition of color scheme for dark theme */\n",
       "    --sklearn-color-text-on-default-background: var(--sg-text-color, var(--theme-code-foreground, var(--jp-content-font-color1, white)));\n",
       "    --sklearn-color-background: var(--sg-background-color, var(--theme-background, var(--jp-layout-color0, #111)));\n",
       "    --sklearn-color-border-box: var(--sg-text-color, var(--theme-code-foreground, var(--jp-content-font-color1, white)));\n",
       "    --sklearn-color-icon: #878787;\n",
       "  }\n",
       "}\n",
       "\n",
       "#sk-container-id-1 {\n",
       "  color: var(--sklearn-color-text);\n",
       "}\n",
       "\n",
       "#sk-container-id-1 pre {\n",
       "  padding: 0;\n",
       "}\n",
       "\n",
       "#sk-container-id-1 input.sk-hidden--visually {\n",
       "  border: 0;\n",
       "  clip: rect(1px 1px 1px 1px);\n",
       "  clip: rect(1px, 1px, 1px, 1px);\n",
       "  height: 1px;\n",
       "  margin: -1px;\n",
       "  overflow: hidden;\n",
       "  padding: 0;\n",
       "  position: absolute;\n",
       "  width: 1px;\n",
       "}\n",
       "\n",
       "#sk-container-id-1 div.sk-dashed-wrapped {\n",
       "  border: 1px dashed var(--sklearn-color-line);\n",
       "  margin: 0 0.4em 0.5em 0.4em;\n",
       "  box-sizing: border-box;\n",
       "  padding-bottom: 0.4em;\n",
       "  background-color: var(--sklearn-color-background);\n",
       "}\n",
       "\n",
       "#sk-container-id-1 div.sk-container {\n",
       "  /* jupyter's `normalize.less` sets `[hidden] { display: none; }`\n",
       "     but bootstrap.min.css set `[hidden] { display: none !important; }`\n",
       "     so we also need the `!important` here to be able to override the\n",
       "     default hidden behavior on the sphinx rendered scikit-learn.org.\n",
       "     See: https://github.com/scikit-learn/scikit-learn/issues/21755 */\n",
       "  display: inline-block !important;\n",
       "  position: relative;\n",
       "}\n",
       "\n",
       "#sk-container-id-1 div.sk-text-repr-fallback {\n",
       "  display: none;\n",
       "}\n",
       "\n",
       "div.sk-parallel-item,\n",
       "div.sk-serial,\n",
       "div.sk-item {\n",
       "  /* draw centered vertical line to link estimators */\n",
       "  background-image: linear-gradient(var(--sklearn-color-text-on-default-background), var(--sklearn-color-text-on-default-background));\n",
       "  background-size: 2px 100%;\n",
       "  background-repeat: no-repeat;\n",
       "  background-position: center center;\n",
       "}\n",
       "\n",
       "/* Parallel-specific style estimator block */\n",
       "\n",
       "#sk-container-id-1 div.sk-parallel-item::after {\n",
       "  content: \"\";\n",
       "  width: 100%;\n",
       "  border-bottom: 2px solid var(--sklearn-color-text-on-default-background);\n",
       "  flex-grow: 1;\n",
       "}\n",
       "\n",
       "#sk-container-id-1 div.sk-parallel {\n",
       "  display: flex;\n",
       "  align-items: stretch;\n",
       "  justify-content: center;\n",
       "  background-color: var(--sklearn-color-background);\n",
       "  position: relative;\n",
       "}\n",
       "\n",
       "#sk-container-id-1 div.sk-parallel-item {\n",
       "  display: flex;\n",
       "  flex-direction: column;\n",
       "}\n",
       "\n",
       "#sk-container-id-1 div.sk-parallel-item:first-child::after {\n",
       "  align-self: flex-end;\n",
       "  width: 50%;\n",
       "}\n",
       "\n",
       "#sk-container-id-1 div.sk-parallel-item:last-child::after {\n",
       "  align-self: flex-start;\n",
       "  width: 50%;\n",
       "}\n",
       "\n",
       "#sk-container-id-1 div.sk-parallel-item:only-child::after {\n",
       "  width: 0;\n",
       "}\n",
       "\n",
       "/* Serial-specific style estimator block */\n",
       "\n",
       "#sk-container-id-1 div.sk-serial {\n",
       "  display: flex;\n",
       "  flex-direction: column;\n",
       "  align-items: center;\n",
       "  background-color: var(--sklearn-color-background);\n",
       "  padding-right: 1em;\n",
       "  padding-left: 1em;\n",
       "}\n",
       "\n",
       "\n",
       "/* Toggleable style: style used for estimator/Pipeline/ColumnTransformer box that is\n",
       "clickable and can be expanded/collapsed.\n",
       "- Pipeline and ColumnTransformer use this feature and define the default style\n",
       "- Estimators will overwrite some part of the style using the `sk-estimator` class\n",
       "*/\n",
       "\n",
       "/* Pipeline and ColumnTransformer style (default) */\n",
       "\n",
       "#sk-container-id-1 div.sk-toggleable {\n",
       "  /* Default theme specific background. It is overwritten whether we have a\n",
       "  specific estimator or a Pipeline/ColumnTransformer */\n",
       "  background-color: var(--sklearn-color-background);\n",
       "}\n",
       "\n",
       "/* Toggleable label */\n",
       "#sk-container-id-1 label.sk-toggleable__label {\n",
       "  cursor: pointer;\n",
       "  display: block;\n",
       "  width: 100%;\n",
       "  margin-bottom: 0;\n",
       "  padding: 0.5em;\n",
       "  box-sizing: border-box;\n",
       "  text-align: center;\n",
       "}\n",
       "\n",
       "#sk-container-id-1 label.sk-toggleable__label-arrow:before {\n",
       "  /* Arrow on the left of the label */\n",
       "  content: \"▸\";\n",
       "  float: left;\n",
       "  margin-right: 0.25em;\n",
       "  color: var(--sklearn-color-icon);\n",
       "}\n",
       "\n",
       "#sk-container-id-1 label.sk-toggleable__label-arrow:hover:before {\n",
       "  color: var(--sklearn-color-text);\n",
       "}\n",
       "\n",
       "/* Toggleable content - dropdown */\n",
       "\n",
       "#sk-container-id-1 div.sk-toggleable__content {\n",
       "  max-height: 0;\n",
       "  max-width: 0;\n",
       "  overflow: hidden;\n",
       "  text-align: left;\n",
       "  /* unfitted */\n",
       "  background-color: var(--sklearn-color-unfitted-level-0);\n",
       "}\n",
       "\n",
       "#sk-container-id-1 div.sk-toggleable__content.fitted {\n",
       "  /* fitted */\n",
       "  background-color: var(--sklearn-color-fitted-level-0);\n",
       "}\n",
       "\n",
       "#sk-container-id-1 div.sk-toggleable__content pre {\n",
       "  margin: 0.2em;\n",
       "  border-radius: 0.25em;\n",
       "  color: var(--sklearn-color-text);\n",
       "  /* unfitted */\n",
       "  background-color: var(--sklearn-color-unfitted-level-0);\n",
       "}\n",
       "\n",
       "#sk-container-id-1 div.sk-toggleable__content.fitted pre {\n",
       "  /* unfitted */\n",
       "  background-color: var(--sklearn-color-fitted-level-0);\n",
       "}\n",
       "\n",
       "#sk-container-id-1 input.sk-toggleable__control:checked~div.sk-toggleable__content {\n",
       "  /* Expand drop-down */\n",
       "  max-height: 200px;\n",
       "  max-width: 100%;\n",
       "  overflow: auto;\n",
       "}\n",
       "\n",
       "#sk-container-id-1 input.sk-toggleable__control:checked~label.sk-toggleable__label-arrow:before {\n",
       "  content: \"▾\";\n",
       "}\n",
       "\n",
       "/* Pipeline/ColumnTransformer-specific style */\n",
       "\n",
       "#sk-container-id-1 div.sk-label input.sk-toggleable__control:checked~label.sk-toggleable__label {\n",
       "  color: var(--sklearn-color-text);\n",
       "  background-color: var(--sklearn-color-unfitted-level-2);\n",
       "}\n",
       "\n",
       "#sk-container-id-1 div.sk-label.fitted input.sk-toggleable__control:checked~label.sk-toggleable__label {\n",
       "  background-color: var(--sklearn-color-fitted-level-2);\n",
       "}\n",
       "\n",
       "/* Estimator-specific style */\n",
       "\n",
       "/* Colorize estimator box */\n",
       "#sk-container-id-1 div.sk-estimator input.sk-toggleable__control:checked~label.sk-toggleable__label {\n",
       "  /* unfitted */\n",
       "  background-color: var(--sklearn-color-unfitted-level-2);\n",
       "}\n",
       "\n",
       "#sk-container-id-1 div.sk-estimator.fitted input.sk-toggleable__control:checked~label.sk-toggleable__label {\n",
       "  /* fitted */\n",
       "  background-color: var(--sklearn-color-fitted-level-2);\n",
       "}\n",
       "\n",
       "#sk-container-id-1 div.sk-label label.sk-toggleable__label,\n",
       "#sk-container-id-1 div.sk-label label {\n",
       "  /* The background is the default theme color */\n",
       "  color: var(--sklearn-color-text-on-default-background);\n",
       "}\n",
       "\n",
       "/* On hover, darken the color of the background */\n",
       "#sk-container-id-1 div.sk-label:hover label.sk-toggleable__label {\n",
       "  color: var(--sklearn-color-text);\n",
       "  background-color: var(--sklearn-color-unfitted-level-2);\n",
       "}\n",
       "\n",
       "/* Label box, darken color on hover, fitted */\n",
       "#sk-container-id-1 div.sk-label.fitted:hover label.sk-toggleable__label.fitted {\n",
       "  color: var(--sklearn-color-text);\n",
       "  background-color: var(--sklearn-color-fitted-level-2);\n",
       "}\n",
       "\n",
       "/* Estimator label */\n",
       "\n",
       "#sk-container-id-1 div.sk-label label {\n",
       "  font-family: monospace;\n",
       "  font-weight: bold;\n",
       "  display: inline-block;\n",
       "  line-height: 1.2em;\n",
       "}\n",
       "\n",
       "#sk-container-id-1 div.sk-label-container {\n",
       "  text-align: center;\n",
       "}\n",
       "\n",
       "/* Estimator-specific */\n",
       "#sk-container-id-1 div.sk-estimator {\n",
       "  font-family: monospace;\n",
       "  border: 1px dotted var(--sklearn-color-border-box);\n",
       "  border-radius: 0.25em;\n",
       "  box-sizing: border-box;\n",
       "  margin-bottom: 0.5em;\n",
       "  /* unfitted */\n",
       "  background-color: var(--sklearn-color-unfitted-level-0);\n",
       "}\n",
       "\n",
       "#sk-container-id-1 div.sk-estimator.fitted {\n",
       "  /* fitted */\n",
       "  background-color: var(--sklearn-color-fitted-level-0);\n",
       "}\n",
       "\n",
       "/* on hover */\n",
       "#sk-container-id-1 div.sk-estimator:hover {\n",
       "  /* unfitted */\n",
       "  background-color: var(--sklearn-color-unfitted-level-2);\n",
       "}\n",
       "\n",
       "#sk-container-id-1 div.sk-estimator.fitted:hover {\n",
       "  /* fitted */\n",
       "  background-color: var(--sklearn-color-fitted-level-2);\n",
       "}\n",
       "\n",
       "/* Specification for estimator info (e.g. \"i\" and \"?\") */\n",
       "\n",
       "/* Common style for \"i\" and \"?\" */\n",
       "\n",
       ".sk-estimator-doc-link,\n",
       "a:link.sk-estimator-doc-link,\n",
       "a:visited.sk-estimator-doc-link {\n",
       "  float: right;\n",
       "  font-size: smaller;\n",
       "  line-height: 1em;\n",
       "  font-family: monospace;\n",
       "  background-color: var(--sklearn-color-background);\n",
       "  border-radius: 1em;\n",
       "  height: 1em;\n",
       "  width: 1em;\n",
       "  text-decoration: none !important;\n",
       "  margin-left: 1ex;\n",
       "  /* unfitted */\n",
       "  border: var(--sklearn-color-unfitted-level-1) 1pt solid;\n",
       "  color: var(--sklearn-color-unfitted-level-1);\n",
       "}\n",
       "\n",
       ".sk-estimator-doc-link.fitted,\n",
       "a:link.sk-estimator-doc-link.fitted,\n",
       "a:visited.sk-estimator-doc-link.fitted {\n",
       "  /* fitted */\n",
       "  border: var(--sklearn-color-fitted-level-1) 1pt solid;\n",
       "  color: var(--sklearn-color-fitted-level-1);\n",
       "}\n",
       "\n",
       "/* On hover */\n",
       "div.sk-estimator:hover .sk-estimator-doc-link:hover,\n",
       ".sk-estimator-doc-link:hover,\n",
       "div.sk-label-container:hover .sk-estimator-doc-link:hover,\n",
       ".sk-estimator-doc-link:hover {\n",
       "  /* unfitted */\n",
       "  background-color: var(--sklearn-color-unfitted-level-3);\n",
       "  color: var(--sklearn-color-background);\n",
       "  text-decoration: none;\n",
       "}\n",
       "\n",
       "div.sk-estimator.fitted:hover .sk-estimator-doc-link.fitted:hover,\n",
       ".sk-estimator-doc-link.fitted:hover,\n",
       "div.sk-label-container:hover .sk-estimator-doc-link.fitted:hover,\n",
       ".sk-estimator-doc-link.fitted:hover {\n",
       "  /* fitted */\n",
       "  background-color: var(--sklearn-color-fitted-level-3);\n",
       "  color: var(--sklearn-color-background);\n",
       "  text-decoration: none;\n",
       "}\n",
       "\n",
       "/* Span, style for the box shown on hovering the info icon */\n",
       ".sk-estimator-doc-link span {\n",
       "  display: none;\n",
       "  z-index: 9999;\n",
       "  position: relative;\n",
       "  font-weight: normal;\n",
       "  right: .2ex;\n",
       "  padding: .5ex;\n",
       "  margin: .5ex;\n",
       "  width: min-content;\n",
       "  min-width: 20ex;\n",
       "  max-width: 50ex;\n",
       "  color: var(--sklearn-color-text);\n",
       "  box-shadow: 2pt 2pt 4pt #999;\n",
       "  /* unfitted */\n",
       "  background: var(--sklearn-color-unfitted-level-0);\n",
       "  border: .5pt solid var(--sklearn-color-unfitted-level-3);\n",
       "}\n",
       "\n",
       ".sk-estimator-doc-link.fitted span {\n",
       "  /* fitted */\n",
       "  background: var(--sklearn-color-fitted-level-0);\n",
       "  border: var(--sklearn-color-fitted-level-3);\n",
       "}\n",
       "\n",
       ".sk-estimator-doc-link:hover span {\n",
       "  display: block;\n",
       "}\n",
       "\n",
       "/* \"?\"-specific style due to the `<a>` HTML tag */\n",
       "\n",
       "#sk-container-id-1 a.estimator_doc_link {\n",
       "  float: right;\n",
       "  font-size: 1rem;\n",
       "  line-height: 1em;\n",
       "  font-family: monospace;\n",
       "  background-color: var(--sklearn-color-background);\n",
       "  border-radius: 1rem;\n",
       "  height: 1rem;\n",
       "  width: 1rem;\n",
       "  text-decoration: none;\n",
       "  /* unfitted */\n",
       "  color: var(--sklearn-color-unfitted-level-1);\n",
       "  border: var(--sklearn-color-unfitted-level-1) 1pt solid;\n",
       "}\n",
       "\n",
       "#sk-container-id-1 a.estimator_doc_link.fitted {\n",
       "  /* fitted */\n",
       "  border: var(--sklearn-color-fitted-level-1) 1pt solid;\n",
       "  color: var(--sklearn-color-fitted-level-1);\n",
       "}\n",
       "\n",
       "/* On hover */\n",
       "#sk-container-id-1 a.estimator_doc_link:hover {\n",
       "  /* unfitted */\n",
       "  background-color: var(--sklearn-color-unfitted-level-3);\n",
       "  color: var(--sklearn-color-background);\n",
       "  text-decoration: none;\n",
       "}\n",
       "\n",
       "#sk-container-id-1 a.estimator_doc_link.fitted:hover {\n",
       "  /* fitted */\n",
       "  background-color: var(--sklearn-color-fitted-level-3);\n",
       "}\n",
       "</style><div id=\"sk-container-id-1\" class=\"sk-top-container\"><div class=\"sk-text-repr-fallback\"><pre>MultinomialNB()</pre><b>In a Jupyter environment, please rerun this cell to show the HTML representation or trust the notebook. <br />On GitHub, the HTML representation is unable to render, please try loading this page with nbviewer.org.</b></div><div class=\"sk-container\" hidden><div class=\"sk-item\"><div class=\"sk-estimator fitted sk-toggleable\"><input class=\"sk-toggleable__control sk-hidden--visually\" id=\"sk-estimator-id-1\" type=\"checkbox\" checked><label for=\"sk-estimator-id-1\" class=\"sk-toggleable__label fitted sk-toggleable__label-arrow fitted\">&nbsp;&nbsp;MultinomialNB<a class=\"sk-estimator-doc-link fitted\" rel=\"noreferrer\" target=\"_blank\" href=\"https://scikit-learn.org/1.4/modules/generated/sklearn.naive_bayes.MultinomialNB.html\">?<span>Documentation for MultinomialNB</span></a><span class=\"sk-estimator-doc-link fitted\">i<span>Fitted</span></span></label><div class=\"sk-toggleable__content fitted\"><pre>MultinomialNB()</pre></div> </div></div></div></div>"
      ],
      "text/plain": [
       "MultinomialNB()"
      ]
     },
     "execution_count": 133,
     "metadata": {},
     "output_type": "execute_result"
    }
   ],
   "source": [
    "model = MultinomialNB() \n",
    "model.fit(X_train,y_train)"
   ]
  },
  {
   "cell_type": "code",
   "execution_count": 134,
   "id": "83894279-22e1-4a8d-9426-1c0327634327",
   "metadata": {},
   "outputs": [],
   "source": [
    "y_pred = model.predict(X_test)"
   ]
  },
  {
   "cell_type": "code",
   "execution_count": 135,
   "id": "026b0039-fbe1-4b87-b726-1bc604b37047",
   "metadata": {},
   "outputs": [],
   "source": [
    "accuracy = accuracy_score(y_test,y_pred)"
   ]
  },
  {
   "cell_type": "code",
   "execution_count": 136,
   "id": "a5fa3939-6b06-45f3-b0e4-3f5297b78cbc",
   "metadata": {},
   "outputs": [],
   "source": [
    "report = classification_report(y_test,y_pred)"
   ]
  },
  {
   "cell_type": "code",
   "execution_count": 137,
   "id": "c468a581-6b62-48f0-b08f-76411c6b5f3b",
   "metadata": {},
   "outputs": [
    {
     "name": "stdout",
     "output_type": "stream",
     "text": [
      "Accuracy 0.8\n"
     ]
    }
   ],
   "source": [
    "print(f'Accuracy {accuracy}')"
   ]
  },
  {
   "cell_type": "code",
   "execution_count": 138,
   "id": "c285b1fa-eebe-490b-add3-3932b51c0d78",
   "metadata": {},
   "outputs": [
    {
     "name": "stdout",
     "output_type": "stream",
     "text": [
      "Classfication Report:\n",
      "              precision    recall  f1-score   support\n",
      "\n",
      "           0       0.76      0.85      0.80        96\n",
      "           1       0.85      0.75      0.80       104\n",
      "\n",
      "    accuracy                           0.80       200\n",
      "   macro avg       0.80      0.80      0.80       200\n",
      "weighted avg       0.81      0.80      0.80       200\n",
      "\n"
     ]
    }
   ],
   "source": [
    "print(f'Classfication Report:')\n",
    "print(report)"
   ]
  },
  {
   "cell_type": "code",
   "execution_count": 139,
   "id": "029ddb0e-2f18-4f41-a6cb-462b31fc59f3",
   "metadata": {},
   "outputs": [],
   "source": [
    "#prediction of new review\n",
    "def preprocess_review(review):\n",
    "    review = review.lower()\n",
    "    review = BeautifulSoup(review,\"html.parser\").get_text()\n",
    "    review = re.sub(f\"[{string.punctuation}]\",\" \",review)\n",
    "    review = contractions.fix(review)\n",
    "    review = emoji.demojize(review)\n",
    "    tokens = word_tokenize(review)\n",
    "    stop_words =set(stopwords.words('english'))\n",
    "    tokens = [word for word in tokens if word not in stop_words]\n",
    "    stemmer = PorterStemmer()\n",
    "    stemmed_tokens = [stemmer.stem(word) for word in tokens]\n",
    "    lemmatizer = WordNetLemmatizer()\n",
    "    lemmatized_tokens = [lemmatizer.lemmatize(word, pos = 'v') for word in tokens]\n",
    "    cleaned_review = ' '.join(lemmatized_tokens)\n",
    "    return cleaned_review"
   ]
  },
  {
   "cell_type": "code",
   "execution_count": 141,
   "id": "2e5f097b-0835-40b3-b935-72d9fb0bd057",
   "metadata": {},
   "outputs": [
    {
     "name": "stdin",
     "output_type": "stream",
     "text": [
      "Enter a review Food is amazing\n"
     ]
    },
    {
     "name": "stdout",
     "output_type": "stream",
     "text": [
      "The review is predicted postive\n"
     ]
    }
   ],
   "source": [
    "#new review prediction\n",
    "new_review = input(\"Enter a review\")\n",
    "cleaned_review = preprocess_review(new_review)\n",
    "new_review_vectorized = vectorizer.transform([cleaned_review])\n",
    "prediction = model.predict(new_review_vectorized)\n",
    "if prediction[0] == 1:\n",
    "    print(\"The review is predicted postive\")\n",
    "else:\n",
    "    print(\"The review is predicted negative\")"
   ]
  },
  {
   "cell_type": "code",
   "execution_count": null,
   "id": "63a693bc-c0a3-419f-b0de-c3ec792ee3f6",
   "metadata": {},
   "outputs": [],
   "source": []
  }
 ],
 "metadata": {
  "kernelspec": {
   "display_name": "Python 3 (ipykernel)",
   "language": "python",
   "name": "python3"
  },
  "language_info": {
   "codemirror_mode": {
    "name": "ipython",
    "version": 3
   },
   "file_extension": ".py",
   "mimetype": "text/x-python",
   "name": "python",
   "nbconvert_exporter": "python",
   "pygments_lexer": "ipython3",
   "version": "3.12.2"
  }
 },
 "nbformat": 4,
 "nbformat_minor": 5
}
